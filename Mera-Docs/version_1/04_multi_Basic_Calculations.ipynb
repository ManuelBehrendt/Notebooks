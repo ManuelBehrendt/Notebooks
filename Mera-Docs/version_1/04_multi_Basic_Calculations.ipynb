{
 "cells": [
  {
   "cell_type": "markdown",
   "metadata": {},
   "source": [
    "# 4. Basic Calculations\n",
    "The following functions process different types of `DataSetType`: \n",
    "- ContainMassDataSetType,\n",
    "-    HydroPartType,\n",
    "-    HydroDataType,\n",
    "-    PartDataType,\n",
    "-    ClumpDataType. "
   ]
  },
  {
   "cell_type": "markdown",
   "metadata": {},
   "source": [
    "## Load The Data"
   ]
  },
  {
   "cell_type": "code",
   "execution_count": 62,
   "metadata": {},
   "outputs": [
    {
     "name": "stdout",
     "output_type": "stream",
     "text": [
      "\u001b[0m\u001b[1m[Mera]: 2025-06-30T09:30:13.374\u001b[22m\n",
      "\n",
      "Code: RAMSES\n",
      "output [400] summary:\n",
      "mtime: 2018-09-05T09:51:55\n",
      "ctime: 2025-06-29T20:06:45.267\n",
      "\u001b[0m\u001b[1m=======================================================\u001b[22m\n",
      "simulation time: 594.98 [Myr]\n",
      "boxlen: 48.0 [kpc]\n",
      "ncpu: 2048\n",
      "ndim: 3\n",
      "-------------------------------------------------------\n",
      "amr:           true\n",
      "level(s): 6 - 14 --> cellsize(s): 750.0 [pc] - 2.93 [pc]\n",
      "-------------------------------------------------------\n",
      "hydro:         true\n",
      "hydro-variables:  7  --> (:rho, :vx, :vy, :vz, :p, :var6, :var7)\n",
      "hydro-descriptor: (:density, :velocity_x, :velocity_y, :velocity_z, :thermal_pressure, :passive_scalar_1, :passive_scalar_2)\n",
      "γ: 1.6667\n",
      "-------------------------------------------------------\n",
      "gravity:       true\n",
      "gravity-variables: (:epot, :ax, :ay, :az)\n",
      "-------------------------------------------------------\n",
      "particles:     true\n",
      "- Npart:    5.091500e+05 \n",
      "- Nstars:   5.066030e+05 \n",
      "- Ndm:      2.547000e+03 \n",
      "particle-variables: 5  --> (:vx, :vy, :vz, :mass, :birth)\n",
      "-------------------------------------------------------\n",
      "rt:            false\n",
      "-------------------------------------------------------\n",
      "clumps:           true\n",
      "clump-variables: (:index, :lev, :parent, :ncell, :peak_x, :peak_y, :peak_z, Symbol(\"rho-\"), Symbol(\"rho+\"), :rho_av, :mass_cl, :relevance)\n",
      "-------------------------------------------------------\n",
      "namelist-file:    false\n",
      "timer-file:       false\n",
      "compilation-file: true\n",
      "makefile:         true\n",
      "patchfile:        true\n",
      "\u001b[0m\u001b[1m=======================================================\u001b[22m\n",
      "\n",
      "\u001b[0m\u001b[1m[Mera]: Get hydro data: 2025-06-30T09:30:13.766\u001b[22m\n",
      "\n",
      "Key vars=(:level, :cx, :cy, :cz)\n",
      "Using var(s)=(1, 2, 3, 4) = (:rho, :vx, :vy, :vz) \n",
      "\n",
      "domain:\n",
      "xmin::xmax: 0.0 :: 1.0  \t==> 0.0 [kpc] :: 48.0 [kpc]\n",
      "ymin::ymax: 0.0 :: 1.0  \t==> 0.0 [kpc] :: 48.0 [kpc]\n",
      "zmin::zmax: 0.0 :: 1.0  \t==> 0.0 [kpc] :: 48.0 [kpc]\n",
      "\n",
      "Reading data...\n"
     ]
    },
    {
     "name": "stderr",
     "output_type": "stream",
     "text": [
      "\u001b[32mProgress: 100%|█████████████████████████████████████████| Time: 0:02:47\u001b[39m\n"
     ]
    },
    {
     "name": "stdout",
     "output_type": "stream",
     "text": [
      "Memory used for data table :51.839996337890625 MB\n",
      "-------------------------------------------------------\n",
      "\n",
      "\u001b[0m\u001b[1m[Mera]: Get particle data: 2025-06-30T09:33:01.147\u001b[22m\n",
      "\n",
      "Key vars=(:level, :x, :y, :z, :id)\n",
      "Using var(s)=(1, 2, 3, 4) = (:vx, :vy, :vz, :mass) \n",
      "\n",
      "domain:\n",
      "xmin::xmax: 0.0 :: 1.0  \t==> 0.0 [kpc] :: 48.0 [kpc]\n",
      "ymin::ymax: 0.0 :: 1.0  \t==> 0.0 [kpc] :: 48.0 [kpc]\n",
      "zmin::zmax: 0.0 :: 1.0  \t==> 0.0 [kpc] :: 48.0 [kpc]\n",
      "\n"
     ]
    },
    {
     "name": "stderr",
     "output_type": "stream",
     "text": [
      "\u001b[32mProgress: 100%|█████████████████████████████████████████| Time: 0:00:24\u001b[39m\n"
     ]
    },
    {
     "name": "stdout",
     "output_type": "stream",
     "text": [
      "Found 5.089390e+05 particles\n",
      "Memory used for data table :31.064148902893066 MB\n",
      "-------------------------------------------------------\n",
      "\n",
      "\u001b[0m\u001b[1m[Mera]: Get clump data: 2025-06-30T09:33:26.262\u001b[22m\n",
      "\n",
      "domain:\n",
      "xmin::xmax: 0.0 :: 1.0  \t==> 0.0 [kpc] :: 48.0 [kpc]\n",
      "ymin::ymax: 0.0 :: 1.0  \t==> 0.0 [kpc] :: 48.0 [kpc]\n",
      "zmin::zmax: 0.0 :: 1.0  \t==> 0.0 [kpc] :: 48.0 [kpc]\n",
      "\n",
      "Read 12 colums: \n",
      "[:index, :lev, :parent, :ncell, :peak_x, :peak_y, :peak_z, Symbol(\"rho-\"), Symbol(\"rho+\"), :rho_av, :mass_cl, :relevance]\n",
      "Memory used for data table :61.58203125 KB\n",
      "-------------------------------------------------------\n",
      "\n"
     ]
    }
   ],
   "source": [
    "using Mera\n",
    "info = getinfo(400, \"/Volumes/FASTStorage/Simulations/Mera-Tests/manu_sim_sf_L14\");\n",
    "gas       = gethydro(info, [:rho, :vx, :vy, :vz], lmax=8); \n",
    "particles = getparticles(info, [:mass, :vx, :vy, :vz])\n",
    "clumps    = getclumps(info);"
   ]
  },
  {
   "cell_type": "markdown",
   "metadata": {},
   "source": [
    "### Note\n",
    "Many functions can provide the results in selected units. The internal scaling from code to physical units makes use of the following defined relations:"
   ]
  },
  {
   "cell_type": "code",
   "execution_count": 63,
   "metadata": {},
   "outputs": [
    {
     "name": "stdout",
     "output_type": "stream",
     "text": [
      "\n",
      "\u001b[0m\u001b[1m[Mera]: Fields to scale from user/code units to selected units\u001b[22m\n",
      "\u001b[0m\u001b[1m=======================================================================\u001b[22m\n",
      "Mpc\t= 0.0010000000000006482\n",
      "kpc\t= 1.0000000000006481\n",
      "pc\t= 1000.0000000006482\n",
      "mpc\t= 1.0000000000006482e6\n",
      "ly\t= 3261.5637769461323\n",
      "Au\t= 2.0626480623310105e23\n",
      "km\t= 3.0856775812820004e16\n",
      "m\t= 3.085677581282e19\n",
      "cm\t= 3.085677581282e21\n",
      "mm\t= 3.085677581282e22\n",
      "μm\t= 3.085677581282e25\n",
      "Mpc3\t= 1.0000000000019446e-9\n",
      "kpc3\t= 1.0000000000019444\n",
      "pc3\t= 1.0000000000019448e9\n",
      "mpc3\t= 1.0000000000019446e18\n",
      "ly3\t= 3.469585750743794e10\n",
      "Au3\t= 8.775571306099254e69\n",
      "km3\t= 2.9379989454983075e49\n",
      "m3\t= 2.9379989454983063e58\n",
      "cm3\t= 2.9379989454983065e64\n",
      "mm3\t= 2.937998945498306e67\n",
      "μm3\t= 2.937998945498306e76\n",
      "Msol_pc3\t= 0.9997234790001649\n",
      "Msun_pc3\t= 0.9997234790001649\n",
      "g_cm3\t= 6.76838218451376e-23\n",
      "Msol_pc2\t= 999.7234790008131\n",
      "Msun_pc2\t= 999.7234790008131\n",
      "g_cm2\t= 0.20885045168302602\n",
      "Gyr\t= 0.014910986463557083\n",
      "Myr\t= 14.910986463557084\n",
      "yr\t= 1.4910986463557083e7\n",
      "s\t= 4.70554946422349e14\n",
      "ms\t= 4.70554946422349e17\n",
      "Msol\t= 9.99723479002109e8\n",
      "Msun\t= 9.99723479002109e8\n",
      "Mearth\t= 3.329677459032007e14\n",
      "Mjupiter\t= 1.0476363431814971e12\n",
      "g\t= 1.9885499720830952e42\n",
      "km_s\t= 65.57528732282063\n",
      "m_s\t= 65575.28732282063\n",
      "cm_s\t= 6.557528732282063e6\n",
      "nH\t= 30.987773856809987\n",
      "erg\t= 8.551000140274429e55\n",
      "g_cms2\t= 2.9104844143584656e-9\n",
      "T_mu\t= 517028.3199143136\n",
      "K_mu\t= 517028.3199143136\n",
      "T\t= 680300.4209398864\n",
      "K\t= 680300.4209398864\n",
      "Ba\t= 2.910484414358466e-9\n",
      "g_cm_s2\t= 2.910484414358466e-9\n",
      "p_kB\t= 2.1080995598777838e7\n",
      "K_cm3\t= 2.1080995598777838e7\n",
      "\n"
     ]
    }
   ],
   "source": [
    "viewfields(info.scale)"
   ]
  },
  {
   "cell_type": "markdown",
   "metadata": {},
   "source": [
    "\n",
    "## Total Mass"
   ]
  },
  {
   "cell_type": "markdown",
   "metadata": {},
   "source": [
    "The function `msum` calculates the total mass of the data that is assigned to the provided object. For the hydro-data, the mass is derived from the density and cell-size (level) of all elements. `info.scale.Msol` (or e.g.: gas.info.scale.Msol) scales the result from code units to solar masses:"
   ]
  },
  {
   "cell_type": "code",
   "execution_count": 64,
   "metadata": {},
   "outputs": [
    {
     "name": "stdout",
     "output_type": "stream",
     "text": [
      "Gas Mtot:       2.6703951073850353e10 Msol\n",
      "Particles Mtot: 5.804426008528444e9 Msol\n",
      "Clumps Mtot:    1.3743280681841675e10 Msol\n"
     ]
    }
   ],
   "source": [
    "println( \"Gas Mtot:       \", msum(gas)       * info.scale.Msol, \" Msol\" )\n",
    "println( \"Particles Mtot: \", msum(particles) * info.scale.Msol, \" Msol\" )\n",
    "println( \"Clumps Mtot:    \", msum(clumps)    * info.scale.Msol, \" Msol\" )"
   ]
  },
  {
   "cell_type": "markdown",
   "metadata": {},
   "source": [
    "The units for the results can be calculated by the function itself by providing an unit-argument:"
   ]
  },
  {
   "cell_type": "code",
   "execution_count": 65,
   "metadata": {},
   "outputs": [
    {
     "name": "stdout",
     "output_type": "stream",
     "text": [
      "Gas Mtot:       2.670395107385036e10 Msol\n",
      "Particles Mtot: 5.804426008528436e9 Msol\n",
      "Clumps Mtot:    1.3743280681841673e10 Msol\n"
     ]
    }
   ],
   "source": [
    "println( \"Gas Mtot:       \", msum(gas, :Msol)       , \" Msol\" )\n",
    "println( \"Particles Mtot: \", msum(particles, :Msol) , \" Msol\" )\n",
    "println( \"Clumps Mtot:    \", msum(clumps, :Msol)    , \" Msol\" )"
   ]
  },
  {
   "cell_type": "markdown",
   "metadata": {},
   "source": [
    "The following methods are defined on the function `msum`:"
   ]
  },
  {
   "cell_type": "code",
   "execution_count": 66,
   "metadata": {},
   "outputs": [
    {
     "data": {
      "text/html": [
       "# 2 methods for generic function <b>msum</b> from \u001b[35mMera\u001b[39m:<ul><li> msum(dataobject::<b>ContainMassDataSetType</b>; <i>unit, mask</i>) in Mera at <a href=\"https://github.com/ManuelBehrendt/Mera.jl/tree/292a22d2938a49234887580dc7b36bab9e28350d//src/functions/basic_calc.jl#L22\" target=\"_blank\">/Users/mabe/Documents/codes/github/Mera.jl/src/functions/basic_calc.jl:22</a></li> <li> msum(dataobject::<b>ContainMassDataSetType</b>, unit::<b>Symbol</b>; <i>mask</i>) in Mera at <a href=\"https://github.com/ManuelBehrendt/Mera.jl/tree/292a22d2938a49234887580dc7b36bab9e28350d//src/functions/basic_calc.jl#L18\" target=\"_blank\">/Users/mabe/Documents/codes/github/Mera.jl/src/functions/basic_calc.jl:18</a></li> </ul>"
      ],
      "text/plain": [
       "# 2 methods for generic function \"msum\" from \u001b[35mMera\u001b[39m:\n",
       " [1] msum(\u001b[90mdataobject\u001b[39m::\u001b[1mContainMassDataSetType\u001b[22m; unit, mask)\n",
       "\u001b[90m     @\u001b[39m \u001b[90m~/Documents/codes/github/Mera.jl/src/functions/\u001b[39m\u001b[90m\u001b[4mbasic_calc.jl:22\u001b[24m\u001b[39m\n",
       " [2] msum(\u001b[90mdataobject\u001b[39m::\u001b[1mContainMassDataSetType\u001b[22m, \u001b[90munit\u001b[39m::\u001b[1mSymbol\u001b[22m; mask)\n",
       "\u001b[90m     @\u001b[39m \u001b[90m~/Documents/codes/github/Mera.jl/src/functions/\u001b[39m\u001b[90m\u001b[4mbasic_calc.jl:18\u001b[24m\u001b[39m"
      ]
     },
     "execution_count": 66,
     "metadata": {},
     "output_type": "execute_result"
    }
   ],
   "source": [
    "methods(msum)"
   ]
  },
  {
   "cell_type": "markdown",
   "metadata": {},
   "source": [
    "## Center-Of-Mass\n",
    "The function `center_of_mass` or `com` calculates the center-of-mass of the data that is assigned to the provided object."
   ]
  },
  {
   "cell_type": "code",
   "execution_count": 67,
   "metadata": {},
   "outputs": [
    {
     "name": "stdout",
     "output_type": "stream",
     "text": [
      "Gas COM:       (23.32748735447764, 23.83541991952592, 24.04172014803584) kpc\n",
      "Particles COM: (22.891354761211332, 24.174147282680273, 24.003205056545575) kpc\n",
      "Clumps COM:    (23.135765457064576, 23.741712325649267, 24.005012718586205) kpc\n"
     ]
    }
   ],
   "source": [
    "println( \"Gas COM:       \", center_of_mass(gas)       .* info.scale.kpc, \" kpc\" )\n",
    "println( \"Particles COM: \", center_of_mass(particles) .* info.scale.kpc, \" kpc\" )\n",
    "println( \"Clumps COM:    \", center_of_mass(clumps)    .* info.scale.kpc, \" kpc\" );"
   ]
  },
  {
   "cell_type": "markdown",
   "metadata": {},
   "source": [
    "The units for the results can be calculated by the function itself by providing a unit-argument:"
   ]
  },
  {
   "cell_type": "code",
   "execution_count": 68,
   "metadata": {},
   "outputs": [
    {
     "name": "stdout",
     "output_type": "stream",
     "text": [
      "Gas COM:       (23.32748735447764, 23.83541991952592, 24.04172014803584) kpc\n",
      "Particles COM: (22.891354761211332, 24.174147282680273, 24.003205056545575) kpc\n",
      "Clumps COM:    (23.135765457064576, 23.741712325649267, 24.005012718586205) kpc\n"
     ]
    }
   ],
   "source": [
    "println( \"Gas COM:       \", center_of_mass(gas, :kpc)       , \" kpc\" )\n",
    "println( \"Particles COM: \", center_of_mass(particles, :kpc) , \" kpc\" )\n",
    "println( \"Clumps COM:    \", center_of_mass(clumps, :kpc)    , \" kpc\" );"
   ]
  },
  {
   "cell_type": "markdown",
   "metadata": {},
   "source": [
    "A shorter name for the function `center_of_mass` is defined as `com` :"
   ]
  },
  {
   "cell_type": "code",
   "execution_count": 69,
   "metadata": {},
   "outputs": [
    {
     "name": "stdout",
     "output_type": "stream",
     "text": [
      "Gas COM:       (23.32748735447764, 23.83541991952592, 24.04172014803584) kpc\n",
      "Particles COM: (22.891354761211332, 24.174147282680273, 24.003205056545575) kpc\n",
      "Clumps COM:    (23.135765457064576, 23.741712325649267, 24.005012718586205) kpc\n"
     ]
    }
   ],
   "source": [
    "println( \"Gas COM:       \", com(gas, :kpc)       , \" kpc\" )\n",
    "println( \"Particles COM: \", com(particles, :kpc) , \" kpc\" )\n",
    "println( \"Clumps COM:    \", com(clumps, :kpc)    , \" kpc\" );"
   ]
  },
  {
   "cell_type": "markdown",
   "metadata": {},
   "source": [
    "The result of the coordinates (x, y, z) can be assigned e.g. to a tuple or to three single variables:"
   ]
  },
  {
   "cell_type": "code",
   "execution_count": 70,
   "metadata": {},
   "outputs": [
    {
     "name": "stdout",
     "output_type": "stream",
     "text": [
      "Tuple:      (23.32748735447764, 23.83541991952592, 24.04172014803584) kpc\n",
      "Single vars: 23.32748735447764  23.83541991952592  24.04172014803584  kpc\n"
     ]
    }
   ],
   "source": [
    "# return coordinates in a tuple\n",
    "com_gas = com(gas, :kpc)\n",
    "println( \"Tuple:      \", com_gas, \" kpc\" )\n",
    "\n",
    "# return coordinates into variables\n",
    "x_pos, y_pos, z_pos = com(gas, :kpc);  #create variables\n",
    "println(\"Single vars: \", x_pos, \"  \", y_pos, \"  \", z_pos, \"  kpc\")"
   ]
  },
  {
   "cell_type": "markdown",
   "metadata": {},
   "source": [
    "Calculate the joint centre-of-mass from the hydro and particle data. Provide the hydro and particle data with an array (independent order):"
   ]
  },
  {
   "cell_type": "code",
   "execution_count": 71,
   "metadata": {},
   "outputs": [
    {
     "name": "stdout",
     "output_type": "stream",
     "text": [
      "Joint COM (Gas + Particles): (23.24961513830681, 23.895900266222746, 24.03484321295537) kpc\n",
      "Joint COM (Particles + Gas): (23.24961513830681, 23.895900266222746, 24.03484321295537) kpc\n"
     ]
    }
   ],
   "source": [
    "println( \"Joint COM (Gas + Particles): \", center_of_mass([gas,particles], :kpc) , \" kpc\" )\n",
    "println( \"Joint COM (Particles + Gas): \", center_of_mass([particles,gas], :kpc) , \" kpc\" )"
   ]
  },
  {
   "cell_type": "markdown",
   "metadata": {},
   "source": [
    "Use the shorter name `com` that is defined as the function `center_of_mass` :"
   ]
  },
  {
   "cell_type": "code",
   "execution_count": 72,
   "metadata": {},
   "outputs": [
    {
     "name": "stdout",
     "output_type": "stream",
     "text": [
      "Joint COM (Gas + Particles): (23.24961513830681, 23.895900266222746, 24.03484321295537) kpc\n",
      "Joint COM (Particles + Gas): (23.24961513830681, 23.895900266222746, 24.03484321295537) kpc\n"
     ]
    }
   ],
   "source": [
    "println( \"Joint COM (Gas + Particles): \", com([gas,particles], :kpc) , \" kpc\" )\n",
    "println( \"Joint COM (Particles + Gas): \", com([particles,gas], :kpc) , \" kpc\" )"
   ]
  },
  {
   "cell_type": "code",
   "execution_count": 73,
   "metadata": {},
   "outputs": [
    {
     "data": {
      "text/html": [
       "# 4 methods for generic function <b>center_of_mass</b> from \u001b[35mMera\u001b[39m:<ul><li> center_of_mass(dataobject::<b>Vector{HydroPartType}</b>; <i>unit, mask</i>) in Mera at <a href=\"https://github.com/ManuelBehrendt/Mera.jl/tree/292a22d2938a49234887580dc7b36bab9e28350d//src/functions/basic_calc.jl#L106\" target=\"_blank\">/Users/mabe/Documents/codes/github/Mera.jl/src/functions/basic_calc.jl:106</a></li> <li> center_of_mass(dataobject::<b>Vector{HydroPartType}</b>, unit::<b>Symbol</b>; <i>mask</i>) in Mera at <a href=\"https://github.com/ManuelBehrendt/Mera.jl/tree/292a22d2938a49234887580dc7b36bab9e28350d//src/functions/basic_calc.jl#L102\" target=\"_blank\">/Users/mabe/Documents/codes/github/Mera.jl/src/functions/basic_calc.jl:102</a></li> <li> center_of_mass(dataobject::<b>ContainMassDataSetType</b>; <i>unit, mask</i>) in Mera at <a href=\"https://github.com/ManuelBehrendt/Mera.jl/tree/292a22d2938a49234887580dc7b36bab9e28350d//src/functions/basic_calc.jl#L50\" target=\"_blank\">/Users/mabe/Documents/codes/github/Mera.jl/src/functions/basic_calc.jl:50</a></li> <li> center_of_mass(dataobject::<b>ContainMassDataSetType</b>, unit::<b>Symbol</b>; <i>mask</i>) in Mera at <a href=\"https://github.com/ManuelBehrendt/Mera.jl/tree/292a22d2938a49234887580dc7b36bab9e28350d//src/functions/basic_calc.jl#L46\" target=\"_blank\">/Users/mabe/Documents/codes/github/Mera.jl/src/functions/basic_calc.jl:46</a></li> </ul>"
      ],
      "text/plain": [
       "# 4 methods for generic function \"center_of_mass\" from \u001b[35mMera\u001b[39m:\n",
       " [1] center_of_mass(\u001b[90mdataobject\u001b[39m::\u001b[1mVector\u001b[22m\u001b[0m{HydroPartType}; unit, mask)\n",
       "\u001b[90m     @\u001b[39m \u001b[90m~/Documents/codes/github/Mera.jl/src/functions/\u001b[39m\u001b[90m\u001b[4mbasic_calc.jl:106\u001b[24m\u001b[39m\n",
       " [2] center_of_mass(\u001b[90mdataobject\u001b[39m::\u001b[1mVector\u001b[22m\u001b[0m{HydroPartType}, \u001b[90munit\u001b[39m::\u001b[1mSymbol\u001b[22m; mask)\n",
       "\u001b[90m     @\u001b[39m \u001b[90m~/Documents/codes/github/Mera.jl/src/functions/\u001b[39m\u001b[90m\u001b[4mbasic_calc.jl:102\u001b[24m\u001b[39m\n",
       " [3] center_of_mass(\u001b[90mdataobject\u001b[39m::\u001b[1mContainMassDataSetType\u001b[22m; unit, mask)\n",
       "\u001b[90m     @\u001b[39m \u001b[90m~/Documents/codes/github/Mera.jl/src/functions/\u001b[39m\u001b[90m\u001b[4mbasic_calc.jl:50\u001b[24m\u001b[39m\n",
       " [4] center_of_mass(\u001b[90mdataobject\u001b[39m::\u001b[1mContainMassDataSetType\u001b[22m, \u001b[90munit\u001b[39m::\u001b[1mSymbol\u001b[22m; mask)\n",
       "\u001b[90m     @\u001b[39m \u001b[90m~/Documents/codes/github/Mera.jl/src/functions/\u001b[39m\u001b[90m\u001b[4mbasic_calc.jl:46\u001b[24m\u001b[39m"
      ]
     },
     "execution_count": 73,
     "metadata": {},
     "output_type": "execute_result"
    }
   ],
   "source": [
    "methods(center_of_mass)"
   ]
  },
  {
   "cell_type": "code",
   "execution_count": 74,
   "metadata": {},
   "outputs": [
    {
     "data": {
      "text/html": [
       "# 4 methods for generic function <b>com</b> from \u001b[35mMera\u001b[39m:<ul><li> com(dataobject::<b>Vector{HydroPartType}</b>; <i>unit, mask</i>) in Mera at <a href=\"https://github.com/ManuelBehrendt/Mera.jl/tree/292a22d2938a49234887580dc7b36bab9e28350d//src/functions/basic_calc.jl#L165\" target=\"_blank\">/Users/mabe/Documents/codes/github/Mera.jl/src/functions/basic_calc.jl:165</a></li> <li> com(dataobject::<b>Vector{HydroPartType}</b>, unit::<b>Symbol</b>; <i>mask</i>) in Mera at <a href=\"https://github.com/ManuelBehrendt/Mera.jl/tree/292a22d2938a49234887580dc7b36bab9e28350d//src/functions/basic_calc.jl#L161\" target=\"_blank\">/Users/mabe/Documents/codes/github/Mera.jl/src/functions/basic_calc.jl:161</a></li> <li> com(dataobject::<b>ContainMassDataSetType</b>; <i>unit, mask</i>) in Mera at <a href=\"https://github.com/ManuelBehrendt/Mera.jl/tree/292a22d2938a49234887580dc7b36bab9e28350d//src/functions/basic_calc.jl#L79\" target=\"_blank\">/Users/mabe/Documents/codes/github/Mera.jl/src/functions/basic_calc.jl:79</a></li> <li> com(dataobject::<b>ContainMassDataSetType</b>, unit::<b>Symbol</b>; <i>mask</i>) in Mera at <a href=\"https://github.com/ManuelBehrendt/Mera.jl/tree/292a22d2938a49234887580dc7b36bab9e28350d//src/functions/basic_calc.jl#L75\" target=\"_blank\">/Users/mabe/Documents/codes/github/Mera.jl/src/functions/basic_calc.jl:75</a></li> </ul>"
      ],
      "text/plain": [
       "# 4 methods for generic function \"com\" from \u001b[35mMera\u001b[39m:\n",
       " [1] com(\u001b[90mdataobject\u001b[39m::\u001b[1mVector\u001b[22m\u001b[0m{HydroPartType}; unit, mask)\n",
       "\u001b[90m     @\u001b[39m \u001b[90m~/Documents/codes/github/Mera.jl/src/functions/\u001b[39m\u001b[90m\u001b[4mbasic_calc.jl:165\u001b[24m\u001b[39m\n",
       " [2] com(\u001b[90mdataobject\u001b[39m::\u001b[1mVector\u001b[22m\u001b[0m{HydroPartType}, \u001b[90munit\u001b[39m::\u001b[1mSymbol\u001b[22m; mask)\n",
       "\u001b[90m     @\u001b[39m \u001b[90m~/Documents/codes/github/Mera.jl/src/functions/\u001b[39m\u001b[90m\u001b[4mbasic_calc.jl:161\u001b[24m\u001b[39m\n",
       " [3] com(\u001b[90mdataobject\u001b[39m::\u001b[1mContainMassDataSetType\u001b[22m; unit, mask)\n",
       "\u001b[90m     @\u001b[39m \u001b[90m~/Documents/codes/github/Mera.jl/src/functions/\u001b[39m\u001b[90m\u001b[4mbasic_calc.jl:79\u001b[24m\u001b[39m\n",
       " [4] com(\u001b[90mdataobject\u001b[39m::\u001b[1mContainMassDataSetType\u001b[22m, \u001b[90munit\u001b[39m::\u001b[1mSymbol\u001b[22m; mask)\n",
       "\u001b[90m     @\u001b[39m \u001b[90m~/Documents/codes/github/Mera.jl/src/functions/\u001b[39m\u001b[90m\u001b[4mbasic_calc.jl:75\u001b[24m\u001b[39m"
      ]
     },
     "execution_count": 74,
     "metadata": {},
     "output_type": "execute_result"
    }
   ],
   "source": [
    "methods(com)"
   ]
  },
  {
   "cell_type": "markdown",
   "metadata": {},
   "source": [
    "## Bulk Velocity"
   ]
  },
  {
   "cell_type": "markdown",
   "metadata": {},
   "source": [
    "The function `bulk_velocity` or `average_velocity` calculates the average velocity (w/o mass-weight) of the data that is assigned to the provided object. It can also be used for the clump data if it has velocity components: vx, vy, vz. The default is with mass-weighting:"
   ]
  },
  {
   "cell_type": "code",
   "execution_count": 75,
   "metadata": {},
   "outputs": [
    {
     "name": "stdout",
     "output_type": "stream",
     "text": [
      "Gas:       (-1.4418303105424646, -11.708719305767852, -0.539324349686299) km/s\n",
      "Particles: (-11.623422700314535, -18.440572802490234, -0.3291927731417527) km/s\n"
     ]
    }
   ],
   "source": [
    "println( \"Gas:       \", bulk_velocity(gas, :km_s)       , \" km/s\" )\n",
    "println( \"Particles: \", bulk_velocity(particles, :km_s) , \" km/s\" )"
   ]
  },
  {
   "cell_type": "code",
   "execution_count": 76,
   "metadata": {},
   "outputs": [
    {
     "name": "stdout",
     "output_type": "stream",
     "text": [
      "Gas:       (-1.4418303105424646, -11.708719305767852, -0.539324349686299) km/s\n",
      "Particles: (-11.623422700314535, -18.440572802490234, -0.3291927731417527) km/s\n"
     ]
    }
   ],
   "source": [
    "println( \"Gas:       \", average_velocity(gas, :km_s)       , \" km/s\" )\n",
    "println( \"Particles: \", average_velocity(particles, :km_s) , \" km/s\" )"
   ]
  },
  {
   "cell_type": "markdown",
   "metadata": {},
   "source": [
    "Without mass-weighting:\n",
    "- gas: volume or :no weighting \n",
    "- particles: no weighting"
   ]
  },
  {
   "cell_type": "code",
   "execution_count": 77,
   "metadata": {},
   "outputs": [
    {
     "name": "stdout",
     "output_type": "stream",
     "text": [
      "Gas:       (1.5248458901822848, -8.770913864354457, -0.5037635305158428) km/s\n",
      "Particles: (-11.594477384589647, -18.388591187193725, -0.30977462952679713) km/s\n"
     ]
    }
   ],
   "source": [
    "println( \"Gas:       \", bulk_velocity(gas, :km_s, weighting=:volume)       , \" km/s\" )\n",
    "println( \"Particles: \", bulk_velocity(particles, :km_s, weighting=:no) , \" km/s\" )"
   ]
  },
  {
   "cell_type": "code",
   "execution_count": 78,
   "metadata": {},
   "outputs": [
    {
     "name": "stdout",
     "output_type": "stream",
     "text": [
      "Gas:       (1.5248458901822848, -8.770913864354457, -0.5037635305158428) km/s\n",
      "Particles: (-11.594477384589647, -18.388591187193725, -0.30977462952679713) km/s\n"
     ]
    }
   ],
   "source": [
    "println( \"Gas:       \", average_velocity(gas, :km_s, weighting=:volume)       , \" km/s\" )\n",
    "println( \"Particles: \", average_velocity(particles, :km_s, weighting=:no) , \" km/s\" )"
   ]
  },
  {
   "cell_type": "code",
   "execution_count": 79,
   "metadata": {},
   "outputs": [
    {
     "data": {
      "text/html": [
       "# 2 methods for generic function <b>bulk_velocity</b> from \u001b[35mMera\u001b[39m:<ul><li> bulk_velocity(dataobject::<b>ContainMassDataSetType</b>; <i>unit, weighting, mask</i>) in Mera at <a href=\"https://github.com/ManuelBehrendt/Mera.jl/tree/292a22d2938a49234887580dc7b36bab9e28350d//src/functions/basic_calc.jl#L199\" target=\"_blank\">/Users/mabe/Documents/codes/github/Mera.jl/src/functions/basic_calc.jl:199</a></li> <li> bulk_velocity(dataobject::<b>ContainMassDataSetType</b>, unit::<b>Symbol</b>; <i>weighting, mask</i>) in Mera at <a href=\"https://github.com/ManuelBehrendt/Mera.jl/tree/292a22d2938a49234887580dc7b36bab9e28350d//src/functions/basic_calc.jl#L194\" target=\"_blank\">/Users/mabe/Documents/codes/github/Mera.jl/src/functions/basic_calc.jl:194</a></li> </ul>"
      ],
      "text/plain": [
       "# 2 methods for generic function \"bulk_velocity\" from \u001b[35mMera\u001b[39m:\n",
       " [1] bulk_velocity(\u001b[90mdataobject\u001b[39m::\u001b[1mContainMassDataSetType\u001b[22m; unit, weighting, mask)\n",
       "\u001b[90m     @\u001b[39m \u001b[90m~/Documents/codes/github/Mera.jl/src/functions/\u001b[39m\u001b[90m\u001b[4mbasic_calc.jl:199\u001b[24m\u001b[39m\n",
       " [2] bulk_velocity(\u001b[90mdataobject\u001b[39m::\u001b[1mContainMassDataSetType\u001b[22m, \u001b[90munit\u001b[39m::\u001b[1mSymbol\u001b[22m; weighting, mask)\n",
       "\u001b[90m     @\u001b[39m \u001b[90m~/Documents/codes/github/Mera.jl/src/functions/\u001b[39m\u001b[90m\u001b[4mbasic_calc.jl:194\u001b[24m\u001b[39m"
      ]
     },
     "execution_count": 79,
     "metadata": {},
     "output_type": "execute_result"
    }
   ],
   "source": [
    "methods(bulk_velocity)"
   ]
  },
  {
   "cell_type": "code",
   "execution_count": 80,
   "metadata": {},
   "outputs": [
    {
     "data": {
      "text/html": [
       "# 2 methods for generic function <b>average_velocity</b> from \u001b[35mMera\u001b[39m:<ul><li> average_velocity(dataobject::<b>ContainMassDataSetType</b>; <i>unit, weighting, mask</i>) in Mera at <a href=\"https://github.com/ManuelBehrendt/Mera.jl/tree/292a22d2938a49234887580dc7b36bab9e28350d//src/functions/basic_calc.jl#L240\" target=\"_blank\">/Users/mabe/Documents/codes/github/Mera.jl/src/functions/basic_calc.jl:240</a></li> <li> average_velocity(dataobject::<b>ContainMassDataSetType</b>, unit::<b>Symbol</b>; <i>weighting, mask</i>) in Mera at <a href=\"https://github.com/ManuelBehrendt/Mera.jl/tree/292a22d2938a49234887580dc7b36bab9e28350d//src/functions/basic_calc.jl#L236\" target=\"_blank\">/Users/mabe/Documents/codes/github/Mera.jl/src/functions/basic_calc.jl:236</a></li> </ul>"
      ],
      "text/plain": [
       "# 2 methods for generic function \"average_velocity\" from \u001b[35mMera\u001b[39m:\n",
       " [1] average_velocity(\u001b[90mdataobject\u001b[39m::\u001b[1mContainMassDataSetType\u001b[22m; unit, weighting, mask)\n",
       "\u001b[90m     @\u001b[39m \u001b[90m~/Documents/codes/github/Mera.jl/src/functions/\u001b[39m\u001b[90m\u001b[4mbasic_calc.jl:240\u001b[24m\u001b[39m\n",
       " [2] average_velocity(\u001b[90mdataobject\u001b[39m::\u001b[1mContainMassDataSetType\u001b[22m, \u001b[90munit\u001b[39m::\u001b[1mSymbol\u001b[22m; weighting, mask)\n",
       "\u001b[90m     @\u001b[39m \u001b[90m~/Documents/codes/github/Mera.jl/src/functions/\u001b[39m\u001b[90m\u001b[4mbasic_calc.jl:236\u001b[24m\u001b[39m"
      ]
     },
     "execution_count": 80,
     "metadata": {},
     "output_type": "execute_result"
    }
   ],
   "source": [
    "methods(average_velocity)"
   ]
  },
  {
   "cell_type": "markdown",
   "metadata": {},
   "source": [
    "## Mass Weighted Average\n",
    "The functions `center_of_mass` and `bulk_velocity` use the function `average_mweighted` (average_mass-weighted) in the backend which can be feeded with any kind of variable that is pre-defined for the `getvar()` function or exists in the datatable. See the defined method and at getvar() below:"
   ]
  },
  {
   "cell_type": "code",
   "execution_count": 81,
   "metadata": {},
   "outputs": [
    {
     "data": {
      "text/html": [
       "# 1 method for generic function <b>average_mweighted</b> from \u001b[35mMera\u001b[39m:<ul><li> average_mweighted(dataobject::<b>ContainMassDataSetType</b>, var::<b>Symbol</b>; <i>mask</i>) in Mera at <a href=\"https://github.com/ManuelBehrendt/Mera.jl/tree/292a22d2938a49234887580dc7b36bab9e28350d//src/functions/basic_calc.jl#L171\" target=\"_blank\">/Users/mabe/Documents/codes/github/Mera.jl/src/functions/basic_calc.jl:171</a></li> </ul>"
      ],
      "text/plain": [
       "# 1 method for generic function \"average_mweighted\" from \u001b[35mMera\u001b[39m:\n",
       " [1] average_mweighted(\u001b[90mdataobject\u001b[39m::\u001b[1mContainMassDataSetType\u001b[22m, \u001b[90mvar\u001b[39m::\u001b[1mSymbol\u001b[22m; mask)\n",
       "\u001b[90m     @\u001b[39m \u001b[90m~/Documents/codes/github/Mera.jl/src/functions/\u001b[39m\u001b[90m\u001b[4mbasic_calc.jl:171\u001b[24m\u001b[39m"
      ]
     },
     "execution_count": 81,
     "metadata": {},
     "output_type": "execute_result"
    }
   ],
   "source": [
    "methods( average_mweighted )"
   ]
  },
  {
   "cell_type": "markdown",
   "metadata": {},
   "source": [
    "<a id=\"Statistics\"></a>"
   ]
  },
  {
   "cell_type": "markdown",
   "metadata": {},
   "source": [
    "## Get Predefined Quantities\n",
    "Here, we only show the examples with the hydro-data:"
   ]
  },
  {
   "cell_type": "code",
   "execution_count": 82,
   "metadata": {},
   "outputs": [
    {
     "name": "stdout",
     "output_type": "stream",
     "text": [
      "Reading data...\n"
     ]
    },
    {
     "name": "stderr",
     "output_type": "stream",
     "text": [
      "\u001b[32mProgress: 100%|█████████████████████████████████████████| Time: 0:00:20\u001b[39m\n"
     ]
    }
   ],
   "source": [
    "info = getinfo(1, \"/Volumes/FASTStorage/Simulations/Mera-Tests//manu_stable_2019\", verbose=false);\n",
    "gas = gethydro(info, [:rho, :vx, :vy, :vz], verbose=false); "
   ]
  },
  {
   "cell_type": "markdown",
   "metadata": {},
   "source": [
    "Use `getvar` to extract variables or derive predefined quantities from the database, dependent on the data type.\n",
    "See the possible variables:"
   ]
  },
  {
   "cell_type": "code",
   "execution_count": 83,
   "metadata": {},
   "outputs": [
    {
     "name": "stdout",
     "output_type": "stream",
     "text": [
      "Predefined vars that can be calculated for each cell/particle:\n",
      "----------------------------------------------------------------\n",
      "=============================[gas]:=============================\n",
      "       -all the non derived hydro vars-\n",
      ":cpu, :level, :rho, :cx, :cy, :cz, :vx, :vy, :vz, :p, var6,...\n",
      "\n",
      "              -derived hydro vars-\n",
      ":x, :y, :z\n",
      ":mass, :cellsize, :volume, :freefall_time\n",
      ":cs, :mach, :machx, :machy, :machz, :jeanslength, :jeansnumber\n",
      ":T, :Temp, :Temperature with p/rho\n",
      "\n",
      ":h, :hx, :hy, :hz (specific angular momentum)\n",
      "\n",
      "==========================[particles]:==========================\n",
      "       -all the non derived particle vars-\n",
      ":cpu, :level, :id, :family, :tag \n",
      ":x, :y, :z, :vx, :vy, :vz, :mass, :birth, :metal....\n",
      "\n",
      "              -derived particle vars-\n",
      ":age\n",
      "\n",
      "===========================[gravity]:===========================\n",
      "       -all the non derived gravity vars-\n",
      ":cpu, :level, cx, cy, cz, :epot, :ax, :ay, :az\n",
      "\n",
      "              -derived gravity vars-\n",
      ":x, :y, :z\n",
      ":cellsize, :volume\n",
      "\n",
      "===========================[clumps]:===========================\n",
      ":peak_x or :x, :peak_y or :y, :peak_z or :z\n",
      ":v, :ekin,...\n",
      "\n",
      "=====================[gas or particles]:=======================\n",
      ":v, :ekin\n",
      "\n",
      "related to a given center:\n",
      "---------------------------\n",
      ":r_cylinder, :r_sphere (radial components)\n",
      ":ϕ\n",
      ":vr_cylinder\n",
      ":vϕ_cylinder\n",
      "----------------------------------------------------------------\n"
     ]
    }
   ],
   "source": [
    "getvar()"
   ]
  },
  {
   "cell_type": "markdown",
   "metadata": {},
   "source": [
    "### Get a Single Quantity\n",
    "In the following example, we calculate the mass for each cell of the hydro data. \n",
    "- The output is a 1dim array in code units by default (mass1).\n",
    "- Each element/cell can be scaled to Msol units by the elementwise multiplikation **gas.scale.Msol** (mass2). \n",
    "- The `getvar` function supports intrinsic scaling to a selected unit (mass3).\n",
    "- The selected unit does not need a keyword argument if the following order is maintained: dataobject, variable, unit"
   ]
  },
  {
   "cell_type": "code",
   "execution_count": 84,
   "metadata": {},
   "outputs": [
    {
     "data": {
      "text/plain": [
       "37898393×4 Matrix{Float64}:\n",
       " 8.9407e-7   894.07     894.07     894.07\n",
       " 8.9407e-7   894.07     894.07     894.07\n",
       " 8.9407e-7   894.07     894.07     894.07\n",
       " 8.9407e-7   894.07     894.07     894.07\n",
       " 8.9407e-7   894.07     894.07     894.07\n",
       " 8.9407e-7   894.07     894.07     894.07\n",
       " 8.9407e-7   894.07     894.07     894.07\n",
       " 8.9407e-7   894.07     894.07     894.07\n",
       " 8.9407e-7   894.07     894.07     894.07\n",
       " 8.9407e-7   894.07     894.07     894.07\n",
       " 8.9407e-7   894.07     894.07     894.07\n",
       " 8.9407e-7   894.07     894.07     894.07\n",
       " 8.9407e-7   894.07     894.07     894.07\n",
       " ⋮                                 \n",
       " 1.02889e-7  102.889    102.889    102.889\n",
       " 1.02889e-7  102.889    102.889    102.889\n",
       " 1.94423e-7  194.423    194.423    194.423\n",
       " 1.94423e-7  194.423    194.423    194.423\n",
       " 8.90454e-8   89.0454    89.0454    89.0454\n",
       " 8.90454e-8   89.0454    89.0454    89.0454\n",
       " 2.27641e-8   22.7641    22.7641    22.7641\n",
       " 2.27641e-8   22.7641    22.7641    22.7641\n",
       " 8.42157e-9    8.42157    8.42157    8.42157\n",
       " 8.42157e-9    8.42157    8.42157    8.42157\n",
       " 3.65085e-8   36.5085    36.5085    36.5085\n",
       " 3.65085e-8   36.5085    36.5085    36.5085"
      ]
     },
     "execution_count": 84,
     "metadata": {},
     "output_type": "execute_result"
    }
   ],
   "source": [
    "mass1 = getvar(gas, :mass) # [code units]\n",
    "mass2 = getvar(gas, :mass) * gas.scale.Msol # scale the result (1dim array) from code units to solar masses\n",
    "mass3 = getvar(gas, :mass, unit=:Msol) # unit calculation, provided by a keyword argument [Msol]\n",
    "mass4 = getvar(gas, :mass, :Msol) # unit calculation provided by an argument [Msol]\n",
    "\n",
    "# construct a three dimensional array to compare the three created arrays column wise:  \n",
    "mass_overview = [mass1 mass2 mass3 mass4] "
   ]
  },
  {
   "cell_type": "markdown",
   "metadata": {},
   "source": [
    "Furthermore, we provide a simple function to get the mass of each cell in code units:"
   ]
  },
  {
   "cell_type": "code",
   "execution_count": 85,
   "metadata": {},
   "outputs": [
    {
     "data": {
      "text/plain": [
       "37898393-element Vector{Float64}:\n",
       " 8.940696716308594e-7\n",
       " 8.940696716308594e-7\n",
       " 8.940696716308594e-7\n",
       " 8.940696716308594e-7\n",
       " 8.940696716308594e-7\n",
       " 8.940696716308594e-7\n",
       " 8.940696716308594e-7\n",
       " 8.940696716308594e-7\n",
       " 8.940696716308594e-7\n",
       " 8.940696716308594e-7\n",
       " 8.940696716308594e-7\n",
       " 8.940696716308594e-7\n",
       " 8.940696716308594e-7\n",
       " ⋮\n",
       " 1.0288910576564388e-7\n",
       " 1.0288910576564388e-7\n",
       " 1.9442336261293343e-7\n",
       " 1.9442336261293343e-7\n",
       " 8.90453891574347e-8\n",
       " 8.90453891574347e-8\n",
       " 2.276412192306883e-8\n",
       " 2.276412192306883e-8\n",
       " 8.421571563820485e-9\n",
       " 8.421571563820485e-9\n",
       " 3.650851622718898e-8\n",
       " 3.650851622718898e-8"
      ]
     },
     "execution_count": 85,
     "metadata": {},
     "output_type": "execute_result"
    }
   ],
   "source": [
    "getmass(gas)"
   ]
  },
  {
   "cell_type": "markdown",
   "metadata": {},
   "source": [
    "### Get Multiple Quantities\n",
    "Get several quantities with one function call by passing an array containing the selected variables. \n",
    "`getvar` returns a dictionary containing 1dim arrays for each quantity in code units:"
   ]
  },
  {
   "cell_type": "code",
   "execution_count": 86,
   "metadata": {},
   "outputs": [
    {
     "data": {
      "text/plain": [
       "Dict{Any, Any} with 2 entries:\n",
       "  :mass => [8.9407e-7, 8.9407e-7, 8.9407e-7, 8.9407e-7, 8.9407e-7, 8.9407e-7, 8…\n",
       "  :ekin => [0.0, 0.0, 0.0, 0.0, 0.0, 0.0, 0.0, 0.0, 0.0, 0.0  …  2.28274e-7, 2.…"
      ]
     },
     "execution_count": 86,
     "metadata": {},
     "output_type": "execute_result"
    }
   ],
   "source": [
    "quantities = getvar(gas, [:mass, :ekin])"
   ]
  },
  {
   "cell_type": "markdown",
   "metadata": {},
   "source": [
    "The units for each quantity can by passed as an array to the keyword argument \"units\" (plural, compare with single quantitiy call above) by preserving the order of the vars argument:"
   ]
  },
  {
   "cell_type": "code",
   "execution_count": 87,
   "metadata": {},
   "outputs": [
    {
     "data": {
      "text/plain": [
       "Dict{Any, Any} with 2 entries:\n",
       "  :mass => [894.07, 894.07, 894.07, 894.07, 894.07, 894.07, 894.07, 894.07, 894…\n",
       "  :ekin => [0.0, 0.0, 0.0, 0.0, 0.0, 0.0, 0.0, 0.0, 0.0, 0.0  …  1.95354e49, 1.…"
      ]
     },
     "execution_count": 87,
     "metadata": {},
     "output_type": "execute_result"
    }
   ],
   "source": [
    "quantities = getvar(gas, [:mass, :ekin], units=[:Msol, :erg])"
   ]
  },
  {
   "cell_type": "markdown",
   "metadata": {},
   "source": [
    "The function can be called without any keywords by preserving the following order: dataobject, variables, units"
   ]
  },
  {
   "cell_type": "code",
   "execution_count": 88,
   "metadata": {},
   "outputs": [
    {
     "data": {
      "text/plain": [
       "Dict{Any, Any} with 2 entries:\n",
       "  :mass => [894.07, 894.07, 894.07, 894.07, 894.07, 894.07, 894.07, 894.07, 894…\n",
       "  :ekin => [0.0, 0.0, 0.0, 0.0, 0.0, 0.0, 0.0, 0.0, 0.0, 0.0  …  1.95354e49, 1.…"
      ]
     },
     "execution_count": 88,
     "metadata": {},
     "output_type": "execute_result"
    }
   ],
   "source": [
    "quantities = getvar(gas, [:mass, :ekin], [:Msol, :erg])"
   ]
  },
  {
   "cell_type": "markdown",
   "metadata": {},
   "source": [
    "The arrays of the single quantities can be accessed from the dictionary:"
   ]
  },
  {
   "cell_type": "code",
   "execution_count": 89,
   "metadata": {},
   "outputs": [
    {
     "data": {
      "text/plain": [
       "37898393-element Vector{Float64}:\n",
       " 894.0696716308591\n",
       " 894.0696716308591\n",
       " 894.0696716308591\n",
       " 894.0696716308591\n",
       " 894.0696716308591\n",
       " 894.0696716308591\n",
       " 894.0696716308591\n",
       " 894.0696716308591\n",
       " 894.0696716308591\n",
       " 894.0696716308591\n",
       " 894.0696716308591\n",
       " 894.0696716308591\n",
       " 894.0696716308591\n",
       "   ⋮\n",
       " 102.88910576564386\n",
       " 102.88910576564386\n",
       " 194.42336261293337\n",
       " 194.42336261293337\n",
       "  89.04538915743468\n",
       "  89.04538915743468\n",
       "  22.764121923068824\n",
       "  22.764121923068824\n",
       "   8.421571563820482\n",
       "   8.421571563820482\n",
       "  36.50851622718897\n",
       "  36.50851622718897"
      ]
     },
     "execution_count": 89,
     "metadata": {},
     "output_type": "execute_result"
    }
   ],
   "source": [
    "quantities[:mass]"
   ]
  },
  {
   "cell_type": "markdown",
   "metadata": {},
   "source": [
    "If all selected variables should be of the same unit use the following arguments: dataobject, array of quantities, unit (no array needed):"
   ]
  },
  {
   "cell_type": "code",
   "execution_count": 90,
   "metadata": {},
   "outputs": [
    {
     "data": {
      "text/plain": [
       "Dict{Any, Any} with 3 entries:\n",
       "  :vy => [0.0, 0.0, 0.0, 0.0, 0.0, 0.0, 0.0, 0.0, 0.0, 0.0  …  -97.5301, -97.53…\n",
       "  :vz => [0.0, 0.0, 0.0, 0.0, 0.0, 0.0, 0.0, 0.0, 0.0, 0.0  …  0.0, 0.0, 0.0, 0…\n",
       "  :vx => [0.0, 0.0, 0.0, 0.0, 0.0, 0.0, 0.0, 0.0, 0.0, 0.0  …  -24.307, -24.307…"
      ]
     },
     "execution_count": 90,
     "metadata": {},
     "output_type": "execute_result"
    }
   ],
   "source": [
    "quantities = getvar(gas, [:vx, :vy, :vz], :km_s)"
   ]
  },
  {
   "cell_type": "markdown",
   "metadata": {},
   "source": [
    "### Get Quantities related to a center"
   ]
  },
  {
   "cell_type": "markdown",
   "metadata": {},
   "source": [
    "Some quantities are related to a given center, e.g. radius in cylindrical coordinates, see the overview :"
   ]
  },
  {
   "cell_type": "code",
   "execution_count": 91,
   "metadata": {
    "tags": []
   },
   "outputs": [
    {
     "name": "stdout",
     "output_type": "stream",
     "text": [
      "Predefined vars that can be calculated for each cell/particle:\n",
      "----------------------------------------------------------------\n",
      "=============================[gas]:=============================\n",
      "       -all the non derived hydro vars-\n",
      ":cpu, :level, :rho, :cx, :cy, :cz, :vx, :vy, :vz, :p, var6,...\n",
      "\n",
      "              -derived hydro vars-\n",
      ":x, :y, :z\n",
      ":mass, :cellsize, :volume, :freefall_time\n",
      ":cs, :mach, :machx, :machy, :machz, :jeanslength, :jeansnumber\n",
      ":T, :Temp, :Temperature with p/rho\n",
      "\n",
      ":h, :hx, :hy, :hz (specific angular momentum)\n",
      "\n",
      "==========================[particles]:==========================\n",
      "       -all the non derived particle vars-\n",
      ":cpu, :level, :id, :family, :tag \n",
      ":x, :y, :z, :vx, :vy, :vz, :mass, :birth, :metal....\n",
      "\n",
      "              -derived particle vars-\n",
      ":age\n",
      "\n",
      "===========================[gravity]:===========================\n",
      "       -all the non derived gravity vars-\n",
      ":cpu, :level, cx, cy, cz, :epot, :ax, :ay, :az\n",
      "\n",
      "              -derived gravity vars-\n",
      ":x, :y, :z\n",
      ":cellsize, :volume\n",
      "\n",
      "===========================[clumps]:===========================\n",
      ":peak_x or :x, :peak_y or :y, :peak_z or :z\n",
      ":v, :ekin,...\n",
      "\n",
      "=====================[gas or particles]:=======================\n",
      ":v, :ekin\n",
      "\n",
      "related to a given center:\n",
      "---------------------------\n",
      ":r_cylinder, :r_sphere (radial components)\n",
      ":ϕ\n",
      ":vr_cylinder\n",
      ":vϕ_cylinder\n",
      "----------------------------------------------------------------\n"
     ]
    }
   ],
   "source": [
    "getvar()"
   ]
  },
  {
   "cell_type": "markdown",
   "metadata": {},
   "source": [
    "The unit of the provided center-array (in cartesian coordinates: x,y.z) is given by the keyword argument `center_unit` (default: code units).\n",
    "The function returns the quantitites in code units:"
   ]
  },
  {
   "cell_type": "code",
   "execution_count": 92,
   "metadata": {},
   "outputs": [
    {
     "data": {
      "text/plain": [
       "Dict{Any, Any} with 2 entries:\n",
       "  :r_cylinder => [70.1583, 70.1583, 70.1583, 70.1583, 70.1583, 70.1583, 70.1583…\n",
       "  :mass       => [8.9407e-7, 8.9407e-7, 8.9407e-7, 8.9407e-7, 8.9407e-7, 8.9407…"
      ]
     },
     "execution_count": 92,
     "metadata": {},
     "output_type": "execute_result"
    }
   ],
   "source": [
    "cv = (gas.boxlen / 2.) * gas.scale.kpc # provide the box-center in kpc\n",
    "# e.g. for :mass the center keyword is ignored\n",
    "quantities = getvar(gas, [:mass, :r_cylinder], center=[cv, cv, cv], center_unit=:kpc) "
   ]
  },
  {
   "cell_type": "markdown",
   "metadata": {},
   "source": [
    "Here, the function returns the result in the units that are provided. Note: E.g. the quantities :mass and :v (velocity) are not affected by the given center."
   ]
  },
  {
   "cell_type": "code",
   "execution_count": 93,
   "metadata": {},
   "outputs": [
    {
     "data": {
      "text/plain": [
       "Dict{Any, Any} with 3 entries:\n",
       "  :r_cylinder => [70.1583, 70.1583, 70.1583, 70.1583, 70.1583, 70.1583, 70.1583…\n",
       "  :v          => [0.0, 0.0, 0.0, 0.0, 0.0, 0.0, 0.0, 0.0, 0.0, 0.0  …  100.513,…\n",
       "  :mass       => [894.07, 894.07, 894.07, 894.07, 894.07, 894.07, 894.07, 894.0…"
      ]
     },
     "execution_count": 93,
     "metadata": {},
     "output_type": "execute_result"
    }
   ],
   "source": [
    "quantities = getvar(gas, [:mass, :r_cylinder, :v], units=[:Msol, :kpc, :km_s], center=[cv, cv, cv], center_unit=:kpc)"
   ]
  },
  {
   "cell_type": "markdown",
   "metadata": {},
   "source": [
    "Use the short notation for the box center :bc or :boxcenter for all dimensions (x,y,z). In this case the keyword `center_unit` is ignored:"
   ]
  },
  {
   "cell_type": "code",
   "execution_count": 94,
   "metadata": {},
   "outputs": [
    {
     "data": {
      "text/plain": [
       "Dict{Any, Any} with 3 entries:\n",
       "  :r_cylinder => [70.1583, 70.1583, 70.1583, 70.1583, 70.1583, 70.1583, 70.1583…\n",
       "  :v          => [0.0, 0.0, 0.0, 0.0, 0.0, 0.0, 0.0, 0.0, 0.0, 0.0  …  100.513,…\n",
       "  :mass       => [894.07, 894.07, 894.07, 894.07, 894.07, 894.07, 894.07, 894.0…"
      ]
     },
     "execution_count": 94,
     "metadata": {},
     "output_type": "execute_result"
    }
   ],
   "source": [
    "quantities = getvar(gas, [:mass, :r_cylinder, :v], units=[:Msol, :kpc, :km_s], center=[:boxcenter])"
   ]
  },
  {
   "cell_type": "code",
   "execution_count": 95,
   "metadata": {},
   "outputs": [
    {
     "data": {
      "text/plain": [
       "Dict{Any, Any} with 3 entries:\n",
       "  :r_cylinder => [70.1583, 70.1583, 70.1583, 70.1583, 70.1583, 70.1583, 70.1583…\n",
       "  :v          => [0.0, 0.0, 0.0, 0.0, 0.0, 0.0, 0.0, 0.0, 0.0, 0.0  …  100.513,…\n",
       "  :mass       => [894.07, 894.07, 894.07, 894.07, 894.07, 894.07, 894.07, 894.0…"
      ]
     },
     "execution_count": 95,
     "metadata": {},
     "output_type": "execute_result"
    }
   ],
   "source": [
    "quantities = getvar(gas, [:mass, :r_cylinder, :v], units=[:Msol, :kpc, :km_s], center=[:bc])"
   ]
  },
  {
   "cell_type": "markdown",
   "metadata": {},
   "source": [
    "Use the box center notation for individual dimensions, here x,z. The keyword `center_unit` is needed for the y-coordinates:"
   ]
  },
  {
   "cell_type": "code",
   "execution_count": 96,
   "metadata": {},
   "outputs": [
    {
     "data": {
      "text/plain": [
       "Dict{Any, Any} with 3 entries:\n",
       "  :r_cylinder => [54.9408, 54.9408, 54.9408, 54.9408, 54.9408, 54.9408, 54.9408…\n",
       "  :v          => [0.0, 0.0, 0.0, 0.0, 0.0, 0.0, 0.0, 0.0, 0.0, 0.0  …  100.513,…\n",
       "  :mass       => [894.07, 894.07, 894.07, 894.07, 894.07, 894.07, 894.07, 894.0…"
      ]
     },
     "execution_count": 96,
     "metadata": {},
     "output_type": "execute_result"
    }
   ],
   "source": [
    "quantities = getvar(gas, [:mass, :r_cylinder, :v], units=[:Msol, :kpc, :km_s], center=[:bc, 24., :bc], center_unit=:kpc)"
   ]
  },
  {
   "cell_type": "markdown",
   "metadata": {},
   "source": [
    "## Create Costum Quantities"
   ]
  },
  {
   "cell_type": "markdown",
   "metadata": {},
   "source": [
    "**Example1:** Represent the positions of the data as the radius for a disk, centred in the simulation box (cylindrical coordinates):"
   ]
  },
  {
   "cell_type": "code",
   "execution_count": 97,
   "metadata": {},
   "outputs": [
    {
     "data": {
      "text/plain": [
       "37898393-element Vector{Float64}:\n",
       " 70.15825094589823\n",
       " 70.15825094589823\n",
       " 70.15825094589823\n",
       " 70.15825094589823\n",
       " 70.15825094589823\n",
       " 70.15825094589823\n",
       " 70.15825094589823\n",
       " 70.15825094589823\n",
       " 70.15825094589823\n",
       " 70.15825094589823\n",
       " 70.15825094589823\n",
       " 70.15825094589823\n",
       " 70.15825094589823\n",
       "  ⋮\n",
       " 20.08587520654808\n",
       " 20.08587520654808\n",
       " 20.08587520654808\n",
       " 20.08587520654808\n",
       " 20.08587520654808\n",
       " 20.08587520654808\n",
       " 20.08587520654808\n",
       " 20.08587520654808\n",
       " 20.08587520654808\n",
       " 20.08587520654808\n",
       " 20.08587520654808\n",
       " 20.08587520654808"
      ]
     },
     "execution_count": 97,
     "metadata": {},
     "output_type": "execute_result"
    }
   ],
   "source": [
    "boxlen = info.boxlen\n",
    "cv = boxlen / 2. # box-center\n",
    "levels = getvar(gas, :level) # get the level of each cell\n",
    "cellsize = boxlen ./ 2 .^levels # calculate the cellsize for each cell (code units)\n",
    "\n",
    "# or use the predefined quantity\n",
    "cellsize = getvar(gas, :cellsize)\n",
    "\n",
    "\n",
    "# convert the cell-number (related to the levels) into positions (code units), relative to the box center\n",
    "x = getvar(gas, :cx) .* cellsize .- cv # (code units)\n",
    "y = getvar(gas, :cy) .* cellsize .- cv # (code units)\n",
    "\n",
    "# or use the predefined quantity\n",
    "x = getvar(gas, :x, center=[:bc])\n",
    "y = getvar(gas, :y, center=[:bc])\n",
    "\n",
    "\n",
    "# calculate the cylindrical radius and scale from code units to kpc\n",
    "radius = sqrt.(x.^2 .+ y.^2) .* info.scale.kpc"
   ]
  },
  {
   "cell_type": "markdown",
   "metadata": {},
   "source": [
    "### Use IndexedTables Functions\n",
    "see <https://juliadb.org>"
   ]
  },
  {
   "cell_type": "code",
   "execution_count": 98,
   "metadata": {},
   "outputs": [],
   "source": [
    "using Mera.IndexedTables"
   ]
  },
  {
   "cell_type": "markdown",
   "metadata": {},
   "source": [
    "Example: Get the mass for each gas cell:\n",
    "m_i  = ρ_i * cell_volume_i = ρ_i * (boxlen / 2^level)^3"
   ]
  },
  {
   "cell_type": "markdown",
   "metadata": {},
   "source": [
    "#### Version 1\n",
    "Use the `select` function and calculate the mass for each cell:"
   ]
  },
  {
   "cell_type": "code",
   "execution_count": 99,
   "metadata": {},
   "outputs": [],
   "source": [
    "boxlen = gas.boxlen\n",
    "level = select(gas.data, :level ) # get level information from each cell\n",
    "cellvol = (boxlen ./ 2 .^level).^3 # calculate volume for each cell\n",
    "mass1 = select(gas.data, :rho) .* cellvol .* info.scale.Msol; # calculate the mass for each cell in Msol units"
   ]
  },
  {
   "cell_type": "markdown",
   "metadata": {},
   "source": [
    "#### Version 2\n",
    "Use a single time the `select` function to do the calculations from above :"
   ]
  },
  {
   "cell_type": "code",
   "execution_count": 100,
   "metadata": {},
   "outputs": [],
   "source": [
    "mass2 = select( gas.data, (:rho, :level)=>p->p.rho * (boxlen / 2^p.level)^3 ) .* info.scale.Msol;"
   ]
  },
  {
   "cell_type": "markdown",
   "metadata": {},
   "source": [
    "#### Version 3\n",
    "Use the `map` function to do the calculations from above :"
   ]
  },
  {
   "cell_type": "code",
   "execution_count": 101,
   "metadata": {},
   "outputs": [],
   "source": [
    "mass3 = map(p->p.rho * (boxlen / 2^p.level)^3, gas.data) .* info.scale.Msol;"
   ]
  },
  {
   "cell_type": "markdown",
   "metadata": {},
   "source": [
    "Comparison of the results:"
   ]
  },
  {
   "cell_type": "code",
   "execution_count": 102,
   "metadata": {},
   "outputs": [
    {
     "data": {
      "text/plain": [
       "37898393×3 Matrix{Float64}:\n",
       " 894.07     894.07     894.07\n",
       " 894.07     894.07     894.07\n",
       " 894.07     894.07     894.07\n",
       " 894.07     894.07     894.07\n",
       " 894.07     894.07     894.07\n",
       " 894.07     894.07     894.07\n",
       " 894.07     894.07     894.07\n",
       " 894.07     894.07     894.07\n",
       " 894.07     894.07     894.07\n",
       " 894.07     894.07     894.07\n",
       " 894.07     894.07     894.07\n",
       " 894.07     894.07     894.07\n",
       " 894.07     894.07     894.07\n",
       "   ⋮                   \n",
       " 102.889    102.889    102.889\n",
       " 102.889    102.889    102.889\n",
       " 194.423    194.423    194.423\n",
       " 194.423    194.423    194.423\n",
       "  89.0454    89.0454    89.0454\n",
       "  89.0454    89.0454    89.0454\n",
       "  22.7641    22.7641    22.7641\n",
       "  22.7641    22.7641    22.7641\n",
       "   8.42157    8.42157    8.42157\n",
       "   8.42157    8.42157    8.42157\n",
       "  36.5085    36.5085    36.5085\n",
       "  36.5085    36.5085    36.5085"
      ]
     },
     "execution_count": 102,
     "metadata": {},
     "output_type": "execute_result"
    }
   ],
   "source": [
    "[mass1 mass2 mass3]"
   ]
  },
  {
   "cell_type": "markdown",
   "metadata": {},
   "source": [
    "## Statistical Quantities"
   ]
  },
  {
   "cell_type": "code",
   "execution_count": 103,
   "metadata": {},
   "outputs": [
    {
     "name": "stdout",
     "output_type": "stream",
     "text": [
      "Reading data...\n"
     ]
    },
    {
     "name": "stderr",
     "output_type": "stream",
     "text": [
      "\u001b[32mProgress: 100%|█████████████████████████████████████████| Time: 0:02:47\u001b[39m\n",
      "\u001b[32mProgress: 100%|█████████████████████████████████████████| Time: 0:00:19\u001b[39m\n"
     ]
    }
   ],
   "source": [
    "info = getinfo(400, \"/Volumes/FASTStorage/Simulations/Mera-Tests/manu_sim_sf_L14\", verbose=false);\n",
    "gas       = gethydro(info, [:rho, :vx, :vy, :vz], lmax=8, smallr=1e-5, verbose=false); \n",
    "particles = getparticles(info, [:mass, :vx, :vy, :vz], verbose=false)\n",
    "clumps    = getclumps(info, verbose=false);"
   ]
  },
  {
   "cell_type": "markdown",
   "metadata": {},
   "source": [
    "Pass any kind of Array{<:Real,1} (Float, Integer,...) to the `wstat` function to get several unweighted statistical quantities at once:"
   ]
  },
  {
   "cell_type": "code",
   "execution_count": 104,
   "metadata": {},
   "outputs": [],
   "source": [
    "stats_gas       = wstat( getvar(gas,       :vx,     :km_s)     )\n",
    "stats_particles = wstat( getvar(particles, :vx,     :km_s)     )\n",
    "stats_clumps    = wstat( getvar(clumps,    :rho_av, :Msol_pc3) );"
   ]
  },
  {
   "cell_type": "markdown",
   "metadata": {},
   "source": [
    "The result is an object that contains several fields with the statistical quantities:"
   ]
  },
  {
   "cell_type": "code",
   "execution_count": 105,
   "metadata": {},
   "outputs": [
    {
     "name": "stdout",
     "output_type": "stream",
     "text": [
      "Mera.WStatType\n",
      "Mera.WStatType\n",
      "Mera.WStatType\n"
     ]
    },
    {
     "data": {
      "text/plain": [
       "(:mean, :median, :std, :skewness, :kurtosis, :min, :max)"
      ]
     },
     "execution_count": 105,
     "metadata": {},
     "output_type": "execute_result"
    }
   ],
   "source": [
    "println( typeof(stats_gas) )\n",
    "println( typeof(stats_particles) )\n",
    "println( typeof(stats_clumps) )\n",
    "propertynames(stats_gas)"
   ]
  },
  {
   "cell_type": "code",
   "execution_count": 106,
   "metadata": {},
   "outputs": [
    {
     "name": "stdout",
     "output_type": "stream",
     "text": [
      "Gas        <vx>_allcells     : -2.9318774650713717 km/s\n",
      "Particles  <vx>_allparticles : -11.594477384589647 km/s\n",
      "Clumps <rho_av>_allclumps    : 594.7315900915926 Msol/pc^3\n"
     ]
    }
   ],
   "source": [
    "println( \"Gas        <vx>_allcells     : \",  stats_gas.mean,       \" km/s\" )\n",
    "println( \"Particles  <vx>_allparticles : \",  stats_particles.mean, \" km/s\" )\n",
    "println( \"Clumps <rho_av>_allclumps    : \",  stats_clumps.mean,    \" Msol/pc^3\" )"
   ]
  },
  {
   "cell_type": "code",
   "execution_count": 107,
   "metadata": {},
   "outputs": [
    {
     "name": "stdout",
     "output_type": "stream",
     "text": [
      "Gas        min/max_allcells     : -676.5464963488397/894.9181733956399 km/s\n",
      "Particles  min/max_allparticles : -874.6440509326601/670.7956741234592 km/s\n",
      "Clumps     min/max_allclumps    : 125.4809686796669/5357.370234867635 Msol/pc^3\n"
     ]
    }
   ],
   "source": [
    "println( \"Gas        min/max_allcells     : \",  stats_gas.min,      \"/\", stats_gas.max,       \" km/s\" )\n",
    "println( \"Particles  min/max_allparticles : \",  stats_particles.min,\"/\", stats_particles.max, \" km/s\" )\n",
    "println( \"Clumps     min/max_allclumps    : \",  stats_clumps.min,   \"/\", stats_clumps.max,    \" Msol/pc^3\" )"
   ]
  },
  {
   "cell_type": "markdown",
   "metadata": {},
   "source": [
    "## Weighted Statistics\n",
    "Pass any kind of Array{<:Real,1} (Float, Integer,...) for the given variables and one for the weighting with the same length. The weighting goes cell by cell, particle by particle, clump by clump, etc...:"
   ]
  },
  {
   "cell_type": "code",
   "execution_count": 108,
   "metadata": {},
   "outputs": [],
   "source": [
    "stats_gas       = wstat( getvar(gas,       :vx,     :km_s), weight=getvar(gas,       :mass  ));\n",
    "stats_particles = wstat( getvar(particles, :vx,     :km_s), weight=getvar(particles, :mass   ));\n",
    "stats_clumps    = wstat( getvar(clumps,    :peak_x, :kpc ), weight=getvar(clumps,    :mass_cl))  ;"
   ]
  },
  {
   "cell_type": "markdown",
   "metadata": {},
   "source": [
    "Without the keyword `weight` the following order for the given arrays has to be maintained: values, weight"
   ]
  },
  {
   "cell_type": "code",
   "execution_count": 109,
   "metadata": {},
   "outputs": [],
   "source": [
    "stats_gas       = wstat( getvar(gas,       :vx,     :km_s), getvar(gas,       :mass  ));\n",
    "stats_particles = wstat( getvar(particles, :vx,     :km_s), getvar(particles, :mass   ));\n",
    "stats_clumps    = wstat( getvar(clumps,    :peak_x, :kpc ), getvar(clumps,    :mass_cl))  ;"
   ]
  },
  {
   "cell_type": "code",
   "execution_count": 110,
   "metadata": {},
   "outputs": [
    {
     "data": {
      "text/plain": [
       "(:mean, :median, :std, :skewness, :kurtosis, :min, :max)"
      ]
     },
     "execution_count": 110,
     "metadata": {},
     "output_type": "execute_result"
    }
   ],
   "source": [
    "propertynames(stats_gas)"
   ]
  },
  {
   "cell_type": "code",
   "execution_count": 111,
   "metadata": {},
   "outputs": [
    {
     "name": "stdout",
     "output_type": "stream",
     "text": [
      "Gas        <vx>_allcells     : -1.1999253584798584 km/s (mass weighted)\n",
      "Particles  <vx>_allparticles : -11.623422700314533 km/s (mass weighted)\n",
      "Clumps <peak_x>_allclumps    : 23.135765457064576 kpc  (mass weighted)\n"
     ]
    }
   ],
   "source": [
    "println( \"Gas        <vx>_allcells     : \",  stats_gas.mean,       \" km/s (mass weighted)\" )\n",
    "println( \"Particles  <vx>_allparticles : \",  stats_particles.mean, \" km/s (mass weighted)\" )\n",
    "println( \"Clumps <peak_x>_allclumps    : \",  stats_clumps.mean,    \" kpc  (mass weighted)\" )"
   ]
  },
  {
   "cell_type": "code",
   "execution_count": 112,
   "metadata": {},
   "outputs": [
    {
     "name": "stdout",
     "output_type": "stream",
     "text": [
      "Gas        min/max_allcells     : -676.5464963488397/894.9181733956399 km/s\n",
      "Particles  min/max_allparticles : -874.6440509326601/670.7956741234592 km/s\n",
      "Clumps     min/max_allclumps    : 10.29199219000667/38.17382813002474 Msol/pc^3\n"
     ]
    }
   ],
   "source": [
    "println( \"Gas        min/max_allcells     : \",  stats_gas.min,      \"/\", stats_gas.max,       \" km/s\" )\n",
    "println( \"Particles  min/max_allparticles : \",  stats_particles.min,\"/\", stats_particles.max, \" km/s\" )\n",
    "println( \"Clumps     min/max_allclumps    : \",  stats_clumps.min,   \"/\", stats_clumps.max,    \" Msol/pc^3\" )"
   ]
  },
  {
   "cell_type": "markdown",
   "metadata": {},
   "source": [
    "For the average of the gas-density use volume weighting:"
   ]
  },
  {
   "cell_type": "code",
   "execution_count": 113,
   "metadata": {},
   "outputs": [],
   "source": [
    "stats_gas = wstat( getvar(gas, :rho, :g_cm3), weight=getvar(gas, :volume) );"
   ]
  },
  {
   "cell_type": "code",
   "execution_count": 114,
   "metadata": {},
   "outputs": [
    {
     "name": "stdout",
     "output_type": "stream",
     "text": [
      "Gas  <rho>_allcells : 1.8958545012297553e-26 g/cm^3 (volume weighted)\n"
     ]
    }
   ],
   "source": [
    "println( \"Gas  <rho>_allcells : \",  stats_gas.mean,  \" g/cm^3 (volume weighted)\" )"
   ]
  },
  {
   "cell_type": "markdown",
   "metadata": {},
   "source": [
    "## Helpful Functions\n"
   ]
  },
  {
   "cell_type": "markdown",
   "metadata": {},
   "source": [
    "Get the x,y,z positions of every cell relative to a given center:"
   ]
  },
  {
   "cell_type": "code",
   "execution_count": 115,
   "metadata": {},
   "outputs": [],
   "source": [
    "x,y,z = getpositions(gas, :kpc, center=[24.,24.,24.], center_unit=:kpc); # returns a Tuple of 3 arrays"
   ]
  },
  {
   "cell_type": "markdown",
   "metadata": {},
   "source": [
    "The box-center can be calculated automatically:"
   ]
  },
  {
   "cell_type": "code",
   "execution_count": 116,
   "metadata": {},
   "outputs": [],
   "source": [
    "x,y,z = getpositions(gas, :kpc, center=[:boxcenter]);"
   ]
  },
  {
   "cell_type": "code",
   "execution_count": 117,
   "metadata": {},
   "outputs": [
    {
     "data": {
      "text/plain": [
       "849332×3 Matrix{Float64}:\n",
       " -23.25   -23.25    -23.25\n",
       " -23.25   -23.25    -22.5\n",
       " -23.25   -23.25    -21.75\n",
       " -23.25   -23.25    -21.0\n",
       " -23.25   -23.25    -20.25\n",
       " -23.25   -23.25    -19.5\n",
       " -23.25   -23.25    -18.75\n",
       " -23.25   -23.25    -18.0\n",
       " -23.25   -23.25    -17.25\n",
       " -23.25   -23.25    -16.5\n",
       " -23.25   -23.25    -15.75\n",
       " -23.25   -23.25    -15.0\n",
       " -23.25   -23.25    -14.25\n",
       "   ⋮                \n",
       "  16.125    3.9375    0.1875\n",
       "  16.125    3.9375    0.375\n",
       "  16.125    3.9375    0.5625\n",
       "  16.125    3.9375    0.75\n",
       "  16.125    4.125    -0.5625\n",
       "  16.125    4.125    -0.375\n",
       "  16.125    4.125    -0.1875\n",
       "  16.125    4.125     0.0\n",
       "  16.125    4.125     0.1875\n",
       "  16.125    4.125     0.375\n",
       "  16.125    4.125     0.5625\n",
       "  16.125    4.125     0.75"
      ]
     },
     "execution_count": 117,
     "metadata": {},
     "output_type": "execute_result"
    }
   ],
   "source": [
    "[x y z] # preview of the output"
   ]
  },
  {
   "cell_type": "markdown",
   "metadata": {},
   "source": [
    "Get the extent of the dataset-domain:"
   ]
  },
  {
   "cell_type": "code",
   "execution_count": 118,
   "metadata": {},
   "outputs": [
    {
     "data": {
      "text/plain": [
       "((0.0, 48.0), (0.0, 48.0), (0.0, 48.0))"
      ]
     },
     "execution_count": 118,
     "metadata": {},
     "output_type": "execute_result"
    }
   ],
   "source": [
    "getextent(gas) # returns Tuple of (xmin, xmax), (ymin ,ymax ), (zmin ,zmax )"
   ]
  },
  {
   "cell_type": "markdown",
   "metadata": {},
   "source": [
    "Get the extent relative to a given center:"
   ]
  },
  {
   "cell_type": "code",
   "execution_count": 119,
   "metadata": {},
   "outputs": [
    {
     "data": {
      "text/plain": [
       "((-24.0, 24.0), (-24.0, 24.0), (-24.0, 24.0))"
      ]
     },
     "execution_count": 119,
     "metadata": {},
     "output_type": "execute_result"
    }
   ],
   "source": [
    "getextent(gas, center=[:boxcenter])"
   ]
  },
  {
   "cell_type": "markdown",
   "metadata": {},
   "source": [
    "Get simulation time in code unit oder physical unit"
   ]
  },
  {
   "cell_type": "code",
   "execution_count": 120,
   "metadata": {
    "tags": []
   },
   "outputs": [
    {
     "data": {
      "text/plain": [
       "39.9019537349027"
      ]
     },
     "execution_count": 120,
     "metadata": {},
     "output_type": "execute_result"
    }
   ],
   "source": [
    "gettime(info)"
   ]
  },
  {
   "cell_type": "code",
   "execution_count": 121,
   "metadata": {
    "tags": []
   },
   "outputs": [
    {
     "data": {
      "text/plain": [
       "594.9774920106152"
      ]
     },
     "execution_count": 121,
     "metadata": {},
     "output_type": "execute_result"
    }
   ],
   "source": [
    "gettime(info, :Myr)"
   ]
  },
  {
   "cell_type": "code",
   "execution_count": 122,
   "metadata": {
    "tags": []
   },
   "outputs": [
    {
     "data": {
      "text/plain": [
       "594.9774920106152"
      ]
     },
     "execution_count": 122,
     "metadata": {},
     "output_type": "execute_result"
    }
   ],
   "source": [
    "gettime(gas, :Myr)"
   ]
  },
  {
   "cell_type": "code",
   "execution_count": null,
   "metadata": {},
   "outputs": [],
   "source": []
  }
 ],
 "metadata": {
  "kernelspec": {
   "display_name": "Julia 1.11.5",
   "language": "julia",
   "name": "julia-1.11"
  },
  "language_info": {
   "file_extension": ".jl",
   "mimetype": "application/julia",
   "name": "julia",
   "version": "1.11.5"
  }
 },
 "nbformat": 4,
 "nbformat_minor": 4
}
