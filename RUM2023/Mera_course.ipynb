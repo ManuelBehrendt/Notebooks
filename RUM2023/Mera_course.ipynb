{
 "cells": [
  {
   "cell_type": "markdown",
   "id": "21b63fd7-2772-43a1-9fce-cb056aa36056",
   "metadata": {},
   "source": [
    "\n",
    "# Hands-On Session RUM2023 - Oxford\n",
    "Manuel Behrendt - mabe@mpe.mpg.de \\\n",
    "Max-Planck-Institute for extraterrestial Physics & University Observatory Munich\n",
    "\n",
    "<img align=\"left\" width=\"286\" height=\"105\" src=\"assets/repository_logo_small.jpg\">  \n",
    "\n",
    "\n",
    "\n",
    "\n",
    "\n",
    "\n",
    "\n",
    "\n"
   ]
  },
  {
   "cell_type": "markdown",
   "id": "6f21fd8b-f2c0-4f67-8769-4da7f7cc8620",
   "metadata": {},
   "source": [
    "<div class=\"alert alert-block alert-info\"> <b>NOTE</b> In this notebook, we learn some essential functions of MERA to process simulation data from RAMSES. In the associated folder, we provide a RAMSES output of a low-resolution galaxy simulation and a compressed version in the JLD2 format that allow you to work on a laptop. Ensure you can install and load the packages in the project environment (provided folder). </div>"
   ]
  },
  {
   "cell_type": "markdown",
   "id": "f8a564dd-c02e-4fd0-8d96-0d2873371b82",
   "metadata": {
    "tags": []
   },
   "source": [
    "## Installation"
   ]
  },
  {
   "cell_type": "code",
   "execution_count": null,
   "id": "ee3b5efd-b896-4338-b676-6e9653982f2e",
   "metadata": {},
   "outputs": [],
   "source": [
    "# Julia environment for reproducability\n",
    "# The first time of execution, it installs all necessary packages\n",
    "# Project environment for reproducability is automatically loaded\n",
    "import Pkg; Pkg.instantiate() # install all necessary packages with necessary versions (first time)\n",
    "Pkg.status() # list of installed packages"
   ]
  },
  {
   "cell_type": "code",
   "execution_count": null,
   "id": "4dc264e5-b7e4-4cdd-8d61-bf3bf3ad33ee",
   "metadata": {
    "tags": []
   },
   "outputs": [],
   "source": []
  },
  {
   "cell_type": "markdown",
   "id": "45601370-1812-47de-90e3-4d93249a0829",
   "metadata": {},
   "source": [
    "### Load Packages"
   ]
  },
  {
   "cell_type": "code",
   "execution_count": null,
   "id": "efcd033b-3efb-4fc9-b44b-65a546ce3190",
   "metadata": {},
   "outputs": [],
   "source": [
    "using Mera, PyPlot, ColorSchemes, StatsBase, JuliaDB, TimerOutputs\n",
    "\n",
    "# prep plots\n",
    "rcParams = PyPlot.PyDict(PyPlot.matplotlib.\"rcParams\")\n",
    "rcParams[\"figure.dpi\"] = 150\n",
    "rcParams[\"savefig.dpi\"] = 150\n",
    "\n",
    "# prep timer\n",
    "to = TimerOutput();"
   ]
  },
  {
   "cell_type": "markdown",
   "id": "1fc4e102-3836-4209-8be7-276a79deb175",
   "metadata": {},
   "source": [
    "## Simulation Overview"
   ]
  },
  {
   "cell_type": "markdown",
   "id": "6b9923cc-8cf9-4d30-8ada-ffdc385778e2",
   "metadata": {},
   "source": [
    "**getinfo** function:\n",
    "- overview of main simulation properties\n",
    "- stored in an object that is passed to any function"
   ]
  },
  {
   "cell_type": "code",
   "execution_count": null,
   "id": "6e7b37bf-93ff-4eb3-b5dc-fc48d68fdc6b",
   "metadata": {},
   "outputs": [],
   "source": [
    "# number of output, no path needed if executed in simulation folder\n",
    "info = getinfo(300);"
   ]
  },
  {
   "cell_type": "code",
   "execution_count": null,
   "id": "4ea8247b-537a-4f3f-9426-9085982ec184",
   "metadata": {
    "tags": []
   },
   "outputs": [],
   "source": [
    "# search for help:"
   ]
  },
  {
   "cell_type": "code",
   "execution_count": null,
   "id": "6e0f198d-dfa2-45d4-9857-e570b2aea943",
   "metadata": {
    "tags": []
   },
   "outputs": [],
   "source": [
    "?getinfo"
   ]
  },
  {
   "cell_type": "code",
   "execution_count": null,
   "id": "14e43ca5-4de9-4ee7-87a4-d3436ccfc135",
   "metadata": {},
   "outputs": [],
   "source": [
    "# list the fields of object \"info\"\n",
    "propertynames(info)"
   ]
  },
  {
   "cell_type": "code",
   "execution_count": null,
   "id": "4cd3d821-a39a-4eec-a7f9-9f4a9526f64a",
   "metadata": {},
   "outputs": [],
   "source": [
    "# better representation\n",
    "viewfields(info)"
   ]
  },
  {
   "cell_type": "code",
   "execution_count": null,
   "id": "50051945-18f6-4785-bd24-69d6a55b5224",
   "metadata": {},
   "outputs": [],
   "source": [
    "# access a single field:\n",
    "info.gamma"
   ]
  },
  {
   "cell_type": "code",
   "execution_count": null,
   "id": "404ad4f0-2545-4f98-9957-3b68bf41beb4",
   "metadata": {
    "tags": []
   },
   "outputs": [],
   "source": [
    "info.boxlen # code unit"
   ]
  },
  {
   "cell_type": "code",
   "execution_count": null,
   "id": "8a897cfa-060f-4e7f-a2d7-60ca0bbaa3fb",
   "metadata": {},
   "outputs": [],
   "source": [
    "namelist(info)"
   ]
  },
  {
   "cell_type": "code",
   "execution_count": null,
   "id": "168a57d3-86b5-4a48-87bf-5634beda5fd8",
   "metadata": {},
   "outputs": [],
   "source": [
    "timerfile(info)"
   ]
  },
  {
   "cell_type": "markdown",
   "id": "d4dd00da-487d-464f-b07b-d40ddb83ab09",
   "metadata": {},
   "source": [
    "#### Scales & Constants\n",
    "precalculatet/defined from unit_*"
   ]
  },
  {
   "cell_type": "code",
   "execution_count": null,
   "id": "ecc81275-7631-40fc-8312-99bab1c9aa46",
   "metadata": {},
   "outputs": [],
   "source": [
    "viewfields(info.scale)"
   ]
  },
  {
   "cell_type": "code",
   "execution_count": null,
   "id": "86d1dca3-dab6-4255-b1d7-9e39de342e88",
   "metadata": {},
   "outputs": [],
   "source": [
    "# access directly (is used internally in all functions for scaling)\n",
    "# (e.g. value provided in code units -> multiply by scale factor)\n",
    "info.scale.Msun_pc2"
   ]
  },
  {
   "cell_type": "code",
   "execution_count": null,
   "id": "e99a0028-7f1d-4b05-9a47-6912bd26ef3a",
   "metadata": {},
   "outputs": [],
   "source": []
  },
  {
   "cell_type": "code",
   "execution_count": null,
   "id": "52e337f2-c74c-4f27-bdf4-16ed40c54efc",
   "metadata": {},
   "outputs": [],
   "source": [
    "viewfields(info.constants)"
   ]
  },
  {
   "cell_type": "code",
   "execution_count": null,
   "id": "bb1846f4-5664-47ba-8b18-533d3c4b4f34",
   "metadata": {},
   "outputs": [],
   "source": [
    "info.constants.kB"
   ]
  },
  {
   "cell_type": "code",
   "execution_count": null,
   "id": "633b1d63-8751-4362-8534-826d11f101e1",
   "metadata": {},
   "outputs": [],
   "source": []
  },
  {
   "cell_type": "code",
   "execution_count": null,
   "id": "d617f6a8-6e5f-4a5a-8f58-e92648295141",
   "metadata": {},
   "outputs": [],
   "source": [
    "# get physical time of simulation:\n",
    "# internal calculation: info.time * info.scale.Myr\n",
    "ti = gettime(info, :Myr)"
   ]
  },
  {
   "cell_type": "code",
   "execution_count": null,
   "id": "7e1cbeed-9c95-4706-a997-900f2db824e2",
   "metadata": {},
   "outputs": [],
   "source": []
  },
  {
   "cell_type": "markdown",
   "id": "3f7d900d-6163-4b8c-982c-d178f4a55e5d",
   "metadata": {},
   "source": [
    "---"
   ]
  },
  {
   "cell_type": "markdown",
   "id": "c91d5b05-945d-4b70-8e8b-24119bd6332b",
   "metadata": {},
   "source": [
    "## Load Data"
   ]
  },
  {
   "cell_type": "code",
   "execution_count": null,
   "id": "6ede53df-b636-46b7-b80e-871eda5e1ed8",
   "metadata": {
    "tags": []
   },
   "outputs": [],
   "source": [
    "sv = storageoverview(info);"
   ]
  },
  {
   "cell_type": "code",
   "execution_count": null,
   "id": "729a580c-2e9a-4d9f-afa0-239df7122cdd",
   "metadata": {
    "tags": []
   },
   "outputs": [],
   "source": [
    "sv # Bytes"
   ]
  },
  {
   "cell_type": "markdown",
   "id": "a1338472-6165-4a63-b636-fd58776eb032",
   "metadata": {},
   "source": [
    "### RAMSES Files"
   ]
  },
  {
   "cell_type": "markdown",
   "id": "6b24da9c-fdff-4bde-85eb-506661cc1ac0",
   "metadata": {},
   "source": [
    "To load simulation data, use the following functions:\n",
    "- gethydro\n",
    "- getparticles\n",
    "- getgravity\n",
    "- getclumps\n",
    "- ..."
   ]
  },
  {
   "cell_type": "code",
   "execution_count": null,
   "id": "e86e8ae8-1454-4750-a76b-ff6acf1cb54c",
   "metadata": {},
   "outputs": [],
   "source": [
    "# loads the full box and all hydro quantities (leaf cells):\n",
    "# Progressbar argument: show_progress=false/true\n",
    "# If your RAM is too small reduce to, e.g, lmax=9\n",
    "gas = gethydro(info);"
   ]
  },
  {
   "cell_type": "code",
   "execution_count": null,
   "id": "3f0c424b-7627-4999-8476-c5228e677c73",
   "metadata": {},
   "outputs": [],
   "source": [
    "mem = usedmemory(gas); # can be applied to any object"
   ]
  },
  {
   "cell_type": "code",
   "execution_count": null,
   "id": "b1ba8930-be29-48cd-a2cf-7d833f2ed9eb",
   "metadata": {},
   "outputs": [],
   "source": [
    "propertynames(gas) # list fields"
   ]
  },
  {
   "cell_type": "code",
   "execution_count": null,
   "id": "f9bcdd91-c09b-4002-ab51-1a3f8c792bc1",
   "metadata": {},
   "outputs": [],
   "source": [
    "viewfields(gas)"
   ]
  },
  {
   "cell_type": "code",
   "execution_count": null,
   "id": "aa06f732-b6a5-44f7-a7f5-628f36e6ab57",
   "metadata": {},
   "outputs": [],
   "source": [
    "# the hydro data is stored in a table:\n",
    "gas.data"
   ]
  },
  {
   "cell_type": "code",
   "execution_count": null,
   "id": "5486b309-764a-44e7-a3cd-f78261fb3317",
   "metadata": {},
   "outputs": [],
   "source": [
    "# select a few columns to get a table-view:\n",
    "# every row corresponds to a cell\n",
    "select(gas.data, (:level, :rho, :vx, :vy, :vz, :p))"
   ]
  },
  {
   "cell_type": "code",
   "execution_count": null,
   "id": "06c1954e-761f-4689-9039-ac2a2e2de13f",
   "metadata": {},
   "outputs": [],
   "source": [
    "?gethydro"
   ]
  },
  {
   "cell_type": "code",
   "execution_count": null,
   "id": "270e4414-8319-45e5-9432-6d1484421289",
   "metadata": {},
   "outputs": [],
   "source": [
    "# loads the full box\n",
    "# in this case only stellar particles (no dm particles availabe)\n",
    "part = getparticles(info);"
   ]
  },
  {
   "cell_type": "code",
   "execution_count": null,
   "id": "2f3d4f1d-e493-4528-853a-1ca533b56cbe",
   "metadata": {},
   "outputs": [],
   "source": []
  },
  {
   "cell_type": "code",
   "execution_count": null,
   "id": "73e622bc-23fe-4bba-9ba5-d333c3ee3547",
   "metadata": {},
   "outputs": [],
   "source": [
    "# to compare loading time with MERA-files\n",
    "@timeit to \"RAMSES\" begin\n",
    "    @timeit to \"hydro\"     gas = gethydro(info, verbose=false)\n",
    "    @timeit to \"particles\" part = getparticles(info, verbose=false)\n",
    "end;\n",
    "to"
   ]
  },
  {
   "cell_type": "code",
   "execution_count": null,
   "id": "016915b9-f6a4-4f20-a455-eb99ba022231",
   "metadata": {},
   "outputs": [],
   "source": []
  },
  {
   "cell_type": "markdown",
   "id": "7a0fa431-69a0-49e2-94f7-578ba951d742",
   "metadata": {},
   "source": [
    "### JLD2-Files (MERA-Files)"
   ]
  },
  {
   "cell_type": "markdown",
   "id": "7206ffd5-b5ba-4c0b-b0d1-69ecd46cab3c",
   "metadata": {},
   "source": [
    "The previous RAMSES output is converted to a compressed JLD2 file **output_00300.jld2** for efficient data loading and to save disk space. The amount of data is the same; only the content of a few cells is modified; see later for a surprise."
   ]
  },
  {
   "cell_type": "code",
   "execution_count": null,
   "id": "bcf8f266-dd28-43f3-9f62-7ca7b9408b07",
   "metadata": {},
   "outputs": [],
   "source": [
    "# AMR structure is associated with all datatypes\n",
    "viewdata(300);"
   ]
  },
  {
   "cell_type": "code",
   "execution_count": null,
   "id": "34f3b5e1-8302-48c0-859a-6b19821f9baf",
   "metadata": {},
   "outputs": [],
   "source": [
    "# similarly to getinfo function\n",
    "info = infodata(300);"
   ]
  },
  {
   "cell_type": "code",
   "execution_count": null,
   "id": "ee84a97d-fbb1-44cf-9e0d-98e684986749",
   "metadata": {},
   "outputs": [],
   "source": []
  },
  {
   "cell_type": "code",
   "execution_count": null,
   "id": "d2fc96b6-ad24-47cb-81b4-e6b209a9aed2",
   "metadata": {},
   "outputs": [],
   "source": [
    "@timeit to \"MERA\" begin\n",
    "    @timeit to \"hydro\"     gas = loaddata(300, :hydro)\n",
    "    @timeit to \"particles\" part= loaddata(300, :particles)\n",
    "end;\n",
    "to"
   ]
  },
  {
   "cell_type": "code",
   "execution_count": null,
   "id": "5d6bd3f1-d915-4847-a4a8-bf4ff10b9f98",
   "metadata": {},
   "outputs": [],
   "source": []
  },
  {
   "cell_type": "code",
   "execution_count": null,
   "id": "590a3a9d-c4a8-4ea9-b680-f49b1fff0b6a",
   "metadata": {},
   "outputs": [],
   "source": []
  },
  {
   "cell_type": "markdown",
   "id": "4d9b5f71-dfa5-41c5-8f47-93649ac39e84",
   "metadata": {},
   "source": [
    "## Projection"
   ]
  },
  {
   "cell_type": "code",
   "execution_count": null,
   "id": "d9193354-8aeb-4084-b2dd-9941ef0655f8",
   "metadata": {},
   "outputs": [],
   "source": [
    "# default cell size == max resolution\n",
    "# full box is taken into account\n",
    "pg  = projection(gas, :sd, :Msun_pc2, center=[:boxcenter], verbose=false);\n",
    "pgx = projection(gas, :sd, :Msun_pc2, center=[:boxcenter], direction=:x, verbose=false);\n",
    "pgy = projection(gas, :sd, :Msun_pc2, center=[:boxcenter], direction=:y, verbose=false);"
   ]
  },
  {
   "cell_type": "code",
   "execution_count": null,
   "id": "1fd86212-97ec-4479-b68a-0fa0182ad741",
   "metadata": {
    "tags": []
   },
   "outputs": [],
   "source": [
    "propertynames(pg)"
   ]
  },
  {
   "cell_type": "code",
   "execution_count": null,
   "id": "5f1d324b-6f23-49cf-ac97-45cc454a8377",
   "metadata": {
    "tags": []
   },
   "outputs": [],
   "source": [
    "pg.maps"
   ]
  },
  {
   "cell_type": "code",
   "execution_count": null,
   "id": "cfa25eff-4de8-414a-9318-346be2350725",
   "metadata": {},
   "outputs": [],
   "source": [
    "pg.maps_unit"
   ]
  },
  {
   "cell_type": "code",
   "execution_count": null,
   "id": "eca8443b-a2b6-4e12-ab8c-0ddd095fed08",
   "metadata": {},
   "outputs": [],
   "source": []
  },
  {
   "cell_type": "code",
   "execution_count": null,
   "id": "c66d01dc-8db8-42ad-8abe-cbab7be56c18",
   "metadata": {},
   "outputs": [],
   "source": [
    "subplot(2,2,1)\n",
    "    title(\"z-direction\")\n",
    "    imshow(log10.(pg.maps[:sd])' , origin=\"lower\", extent=pg.cextent, cmap=\"magma\")\n",
    "    #colorbar()\n",
    "    xlabel(\"x [kpc]\")\n",
    "    ylabel(\"y [kpc]\")\n",
    "\n",
    "subplot(2,2,2)\n",
    "    title(\"y-direction\")\n",
    "    imshow(log10.(pgx.maps[:sd]) , origin=\"lower\", extent=pgx.cextent, cmap=\"magma\")\n",
    "    #colorbar()\n",
    "    xlabel(\"z [kpc]\")\n",
    "    ylabel(\"y [kpc]\")\n",
    "\n",
    "subplot(2,2,3)\n",
    "    title(\"x-direction\")\n",
    "    imshow(log10.(pgy.maps[:sd])' , origin=\"lower\", extent=pgy.cextent, cmap=\"magma\")\n",
    "    #colorbar()\n",
    "    xlabel(\"x [kpc]\")\n",
    "    ylabel(\"z [kpc]\")\n",
    "\n",
    "tight_layout()"
   ]
  },
  {
   "cell_type": "code",
   "execution_count": null,
   "id": "51acfbcf-eff8-4f8d-8a36-27c3decb3e6c",
   "metadata": {},
   "outputs": [],
   "source": [
    "# project for different resolutions\n",
    "# here, lmax is not limited to the maximum resolution of the simulation.\n",
    "# lmax\n",
    "pg  = projection(gas, :sd, :Msun_pc2, center=[:boxcenter], lmax=5);\n",
    "imshow(log10.(pg.maps[:sd]'), origin=\"lower\", extent=pg.cextent, cmap=\"magma\")"
   ]
  },
  {
   "cell_type": "code",
   "execution_count": null,
   "id": "72763352-1044-478b-a69e-0546aed57445",
   "metadata": {},
   "outputs": [],
   "source": [
    "# effective resolution (related to the boxsize)\n",
    "pg  = projection(gas, :sd, :Msun_pc2, center=[:boxcenter], res=100);\n",
    "imshow(log10.(pg.maps[:sd]'), origin=\"lower\", extent=pg.cextent, cmap=\"magma\")"
   ]
  },
  {
   "cell_type": "code",
   "execution_count": null,
   "id": "9455f2bf-7c1f-47df-a5be-1c80aaee0e75",
   "metadata": {},
   "outputs": [],
   "source": [
    "# pixel-size (related to a physicel size)\n",
    "pg  = projection(gas, :sd, :Msun_pc2, center=[:boxcenter], pxsize=[100., :pc]);\n",
    "imshow(log10.(pg.maps[:sd]'), origin=\"lower\", extent=pg.cextent, cmap=\"magma\")"
   ]
  },
  {
   "cell_type": "code",
   "execution_count": null,
   "id": "70e670a3-f6ae-4a85-aa05-b66d87df367a",
   "metadata": {},
   "outputs": [],
   "source": []
  },
  {
   "cell_type": "markdown",
   "id": "d9514226-89d9-4528-aeb0-826b8d0523b7",
   "metadata": {},
   "source": [
    "## Subregions"
   ]
  },
  {
   "cell_type": "code",
   "execution_count": null,
   "id": "27262593-98c6-46d4-a1d3-87e54c1f6e67",
   "metadata": {},
   "outputs": [],
   "source": [
    "msum(gas, :Msun) # gas mass of the full box"
   ]
  },
  {
   "cell_type": "code",
   "execution_count": null,
   "id": "ce1a8f2a-b3b8-435f-909e-62e532b12b12",
   "metadata": {},
   "outputs": [],
   "source": [
    "# cutout the letter \"M\"\n",
    "gas_M = subregion(gas, :cuboid, \n",
    "                xrange=[-20,-10],\n",
    "                yrange=[-5,5],\n",
    "                zrange=[-2,2],\n",
    "                center=[:boxcenter],\n",
    "                range_unit=:kpc);"
   ]
  },
  {
   "cell_type": "code",
   "execution_count": null,
   "id": "16480d05-004c-423c-8943-3706be842321",
   "metadata": {},
   "outputs": [],
   "source": [
    "pg_M  = projection(gas_M, :sd, :Msun_pc2, center=[:boxcenter], verbose=false);\n",
    "pgx_M = projection(gas_M, :sd, :Msun_pc2, center=[:boxcenter], direction=:x, verbose=false);\n",
    "pgy_M = projection(gas_M, :sd, :Msun_pc2, center=[:boxcenter], direction=:y, verbose=false);"
   ]
  },
  {
   "cell_type": "code",
   "execution_count": null,
   "id": "38c51b13-3015-408a-a93c-3b87f1955823",
   "metadata": {},
   "outputs": [],
   "source": [
    "subplot(2,2,1)\n",
    "    imshow(log10.(pg_M.maps[:sd])' , origin=\"lower\", extent=pg_M.cextent, cmap=\"magma\")\n",
    "    #colorbar()\n",
    "    xlabel(\"x [kpc]\")\n",
    "    ylabel(\"y [kpc]\")\n",
    "\n",
    "subplot(2,2,2)\n",
    "    imshow(log10.(pgx_M.maps[:sd]) , origin=\"lower\", extent=pgx_M.cextent, cmap=\"magma\")\n",
    "    #colorbar()\n",
    "    xlabel(\"z [kpc]\")\n",
    "    ylabel(\"y [kpc]\")\n",
    "\n",
    "subplot(2,2,3)\n",
    "    imshow(log10.(pgy_M.maps[:sd])' , origin=\"lower\", extent=pgy_M.cextent, cmap=\"magma\")\n",
    "    #colorbar()\n",
    "    xlabel(\"x [kpc]\")\n",
    "    ylabel(\"z [kpc]\")\n",
    "\n",
    "tight_layout()"
   ]
  },
  {
   "cell_type": "code",
   "execution_count": null,
   "id": "b99f864a-3bf6-4c60-8acf-b65d3f5c8995",
   "metadata": {},
   "outputs": [],
   "source": [
    "msum(gas_M, :Msun) # gas mass of the \"M\" region"
   ]
  },
  {
   "cell_type": "code",
   "execution_count": null,
   "id": "0d9d24bc-21e9-4c66-b973-3dad24cb7b76",
   "metadata": {},
   "outputs": [],
   "source": []
  },
  {
   "cell_type": "code",
   "execution_count": null,
   "id": "5d0d13fc-de47-4b73-b0ae-67e072057fe1",
   "metadata": {},
   "outputs": [],
   "source": [
    "# define a struct for multiple arguments to pass it to a function at once:\n",
    "myargs_M = ArgumentsType()"
   ]
  },
  {
   "cell_type": "code",
   "execution_count": null,
   "id": "1646aa50-d829-4e4b-945c-37eb63ca310d",
   "metadata": {},
   "outputs": [],
   "source": [
    "viewfields(myargs_M)"
   ]
  },
  {
   "cell_type": "code",
   "execution_count": null,
   "id": "91520786-b58c-41ee-a190-1885abcd05d5",
   "metadata": {},
   "outputs": [],
   "source": [
    "myargs_M.xrange=[-20,-10]\n",
    "myargs_M.yrange=[-5,5]\n",
    "myargs_M.zrange=[-2,2]\n",
    "myargs_M.center=[:boxcenter]\n",
    "myargs_M.range_unit=:kpc\n",
    "\n",
    "myargs_E = deepcopy(myargs_M)\n",
    "myargs_E.xrange=[-10,0]\n",
    "\n",
    "myargs_R = deepcopy(myargs_M)\n",
    "myargs_R.xrange=[0,10]\n",
    "\n",
    "myargs_A = deepcopy(myargs_M)\n",
    "myargs_A.xrange=[10,20];"
   ]
  },
  {
   "cell_type": "code",
   "execution_count": null,
   "id": "23c44fa0-78db-4e5e-ba80-14512c9fff82",
   "metadata": {},
   "outputs": [],
   "source": [
    "# verbose(false) # main switch\n",
    "# check state with call: verbose()\n",
    "\n",
    "# with myargs the function is better readable\n",
    "gas_E = subregion(gas, :cuboid, myargs=myargs_E);\n",
    "gas_R = subregion(gas, :cuboid, myargs=myargs_R);\n",
    "gas_A = subregion(gas, :cuboid, myargs=myargs_A);\n",
    "\n",
    "\n",
    "part_M = subregion(part, :cuboid, myargs=myargs_M);\n",
    "part_E = subregion(part, :cuboid, myargs=myargs_E);\n",
    "part_R = subregion(part, :cuboid, myargs=myargs_R);\n",
    "part_A = subregion(part, :cuboid, myargs=myargs_A);"
   ]
  },
  {
   "cell_type": "code",
   "execution_count": null,
   "id": "f9d689e5-afb7-4b43-bd83-8e6c8a9105f3",
   "metadata": {},
   "outputs": [],
   "source": [
    "myargs_M.verbose=false\n",
    "myargs_E.verbose=false\n",
    "myargs_R.verbose=false\n",
    "myargs_A.verbose=false\n",
    "\n",
    "pg_M = projection(gas_M, [:sd,:T], [:Msun_pc2, :K], center=[:boxcenter], myargs=myargs_M);\n",
    "pg_E = projection(gas_E, [:sd,:T], [:Msun_pc2, :K], center=[:boxcenter], myargs=myargs_E);\n",
    "pg_R = projection(gas_R, [:sd,:T], [:Msun_pc2, :K], center=[:boxcenter], myargs=myargs_R);\n",
    "pg_A = projection(gas_A, [:sd,:T], [:Msun_pc2, :K], center=[:boxcenter], myargs=myargs_A);\n",
    "\n",
    "\n",
    "pp_M = projection(part_M, :sd, :Msun_pc2, center=[:boxcenter], myargs=myargs_M);\n",
    "pp_E = projection(part_E, :sd, :Msun_pc2, center=[:boxcenter], myargs=myargs_E);\n",
    "pp_R = projection(part_R, :sd, :Msun_pc2, center=[:boxcenter], myargs=myargs_R);\n",
    "pp_A = projection(part_A, :sd, :Msun_pc2, center=[:boxcenter], myargs=myargs_A);"
   ]
  },
  {
   "cell_type": "code",
   "execution_count": null,
   "id": "df260b5a-6056-49fe-b7e0-6fef5c1affad",
   "metadata": {},
   "outputs": [],
   "source": [
    "subplot(3,4,1)\n",
    "    imshow(log10.(pg_M.maps[:sd])' , origin=\"lower\", extent=pg_M.cextent, cmap=\"magma\")\n",
    "    #colorbar()\n",
    "    xlabel(\"x [kpc]\")\n",
    "    ylabel(\"y [kpc]\")\n",
    "\n",
    "subplot(3,4,2)\n",
    "    imshow(log10.(pg_E.maps[:sd])' , origin=\"lower\", extent=pg_E.cextent, cmap=\"magma\")\n",
    "    #colorbar()\n",
    "    xlabel(\"x [kpc]\")\n",
    "    ylabel(\"y [kpc]\")\n",
    "\n",
    "subplot(3,4,3)\n",
    "    imshow(log10.(pg_R.maps[:sd])' , origin=\"lower\", extent=pg_R.cextent, cmap=\"magma\")\n",
    "    #colorbar()\n",
    "    xlabel(\"x [kpc]\")\n",
    "    ylabel(\"z [kpc]\")\n",
    "\n",
    "subplot(3,4,4)\n",
    "    imshow(log10.(pg_A.maps[:sd])' , origin=\"lower\", extent=pg_A.cextent, cmap=\"magma\")\n",
    "    #colorbar()\n",
    "    xlabel(\"x [kpc]\")\n",
    "    ylabel(\"y [kpc]\")\n",
    "\n",
    "\n",
    "\n",
    "subplot(3,4,5)\n",
    "    imshow( log10.(pg_M.maps[:T])' , origin=\"lower\", extent=pg_M.cextent, cmap=\"magma\")\n",
    "    #colorbar()\n",
    "    xlabel(\"x [kpc]\")\n",
    "    ylabel(\"y [kpc]\")\n",
    "\n",
    "subplot(3,4,6)\n",
    "    imshow( log10.(pg_E.maps[:T])' , origin=\"lower\", extent=pg_E.cextent, cmap=\"magma\")\n",
    "    #colorbar()\n",
    "    xlabel(\"x [kpc]\")\n",
    "    ylabel(\"y [kpc]\")\n",
    "\n",
    "subplot(3,4,7)\n",
    "    imshow( log10.(pg_R.maps[:T])' , origin=\"lower\", extent=pg_R.cextent, cmap=\"magma\")\n",
    "    #colorbar()\n",
    "    xlabel(\"x [kpc]\")\n",
    "    ylabel(\"z [kpc]\")\n",
    "\n",
    "subplot(3,4,8)\n",
    "    imshow( log10.(pg_A.maps[:T])' , origin=\"lower\", extent=pg_A.cextent, cmap=\"magma\")\n",
    "    #colorbar()\n",
    "    xlabel(\"x [kpc]\")\n",
    "    ylabel(\"y [kpc]\")\n",
    "\n",
    "\n",
    "subplot(3,4,9)\n",
    "    imshow( log10.(pp_M.maps[:sd])' , origin=\"lower\", extent=pp_M.cextent, cmap=\"magma\")\n",
    "    #colorbar()\n",
    "    xlabel(\"x [kpc]\")\n",
    "    ylabel(\"y [kpc]\")\n",
    "\n",
    "subplot(3,4,10)\n",
    "    imshow( log10.(pp_E.maps[:sd])' , origin=\"lower\", extent=pp_E.cextent, cmap=\"magma\")\n",
    "    #colorbar()\n",
    "    xlabel(\"x [kpc]\")\n",
    "    ylabel(\"y [kpc]\")\n",
    "\n",
    "subplot(3,4,11)\n",
    "    imshow( log10.(pp_R.maps[:sd])' , origin=\"lower\", extent=pp_R.cextent, cmap=\"magma\")\n",
    "    #colorbar()\n",
    "    xlabel(\"x [kpc]\")\n",
    "    ylabel(\"z [kpc]\")\n",
    "\n",
    "subplot(3,4,12)\n",
    "    imshow( log10.(pp_A.maps[:sd])' , origin=\"lower\", extent=pp_A.cextent, cmap=\"magma\")\n",
    "    #colorbar()\n",
    "    xlabel(\"x [kpc]\")\n",
    "    ylabel(\"y [kpc]\")\n",
    "\n",
    "tight_layout()"
   ]
  },
  {
   "cell_type": "code",
   "execution_count": null,
   "id": "1899d23c-a7b3-47b4-8c28-fc10fdc587ee",
   "metadata": {},
   "outputs": [],
   "source": [
    "# calculate gas and particle mass within the regions\n",
    "massg_M = msum(gas_M, :Msun)\n",
    "massg_E = msum(gas_E, :Msun)\n",
    "massg_R = msum(gas_R, :Msun)\n",
    "massg_A = msum(gas_A, :Msun);\n",
    "\n",
    "massp_M = msum(part_M, :Msun)\n",
    "massp_E = msum(part_E, :Msun)\n",
    "massp_R = msum(part_R, :Msun)\n",
    "massp_A = msum(part_A, :Msun);\n"
   ]
  },
  {
   "cell_type": "code",
   "execution_count": null,
   "id": "73654da4-e1ac-4bfd-937a-b5b88ebbbd25",
   "metadata": {},
   "outputs": [],
   "source": []
  },
  {
   "cell_type": "code",
   "execution_count": null,
   "id": "fcb3d31e-6fca-4d14-958c-4004275ca3b1",
   "metadata": {},
   "outputs": [],
   "source": [
    "scatter([\"M\",\"E\",\"R\",\"A\"], [massg_M, massg_E, massg_R, massg_A])\n",
    "scatter([\"M\",\"E\",\"R\",\"A\"], [massp_M, massp_E, massp_R, massp_A])\n",
    "yscale(\"log\")\n",
    "xlabel(\"Regions\")\n",
    "ylabel(\"Mass [Msun]\");\n"
   ]
  },
  {
   "cell_type": "code",
   "execution_count": null,
   "id": "4f271ab3-3356-4fe9-bdd0-21de3616d258",
   "metadata": {},
   "outputs": [],
   "source": []
  },
  {
   "cell_type": "markdown",
   "id": "820eab90-a64c-4ccb-a753-dd3c2e2de2c2",
   "metadata": {},
   "source": [
    "## Density pdf"
   ]
  },
  {
   "cell_type": "code",
   "execution_count": null,
   "id": "a69c5335-c64f-411c-ba2d-796eb109eb67",
   "metadata": {},
   "outputs": [],
   "source": [
    "# read the unmodified galaxy data\n",
    "info = getinfo(300,  verbose=false);\n",
    "gas = gethydro(info, verbose=false,\n",
    "        xrange=[-8,8], \n",
    "        yrange=[-8,8], \n",
    "        zrange=[-2,2], \n",
    "        center=[:boxcenter], \n",
    "        range_unit=:kpc);"
   ]
  },
  {
   "cell_type": "code",
   "execution_count": null,
   "id": "f089f76a-6257-4408-a487-311ffa7d6caa",
   "metadata": {},
   "outputs": [],
   "source": [
    "pg = projection(gas, :sd, :Msun_pc2, center=[:boxcenter], verbose=false);\n",
    "sdmap = pg.maps[:sd];"
   ]
  },
  {
   "cell_type": "code",
   "execution_count": null,
   "id": "b139ab2e-d09e-40ab-a29a-732d674583d5",
   "metadata": {},
   "outputs": [],
   "source": [
    "hrange = -1:0.05:3\n",
    "h = fit(Histogram, log10.(sdmap[:]), hrange)\n",
    "pdf = h.weights\n",
    "sd = hrange[1:end-1]\n",
    "\n",
    "step( sd,  h.weights)\n",
    "ylim(10,)\n",
    "yscale(\"log\")\n",
    "xlabel(\"log10(Σ) [Msun_pc2]\")\n",
    "ylabel(\"counts\")"
   ]
  },
  {
   "cell_type": "markdown",
   "id": "daee8907-cc93-4110-8bb8-dc8682b0a242",
   "metadata": {},
   "source": [
    "## Profiles\n",
    "Will be soon wrapped into a single function:"
   ]
  },
  {
   "cell_type": "code",
   "execution_count": null,
   "id": "9aa8e691-fb58-4584-b373-870d4271c838",
   "metadata": {},
   "outputs": [],
   "source": [
    "# prepare data:\n",
    "# =============\n",
    "\n",
    "# surface density\n",
    "pg = projection(gas, [:sd, :r_cylinder], [:Msun_pc2, :kpc], center=[:boxcenter], verbose=false);\n",
    "sdmap = pg.maps[:sd]\n",
    "rmap = pg.maps[:r_cylinder]\n",
    "\n",
    "# rotation curve\n",
    "vrot = getvar(gas, :vϕ_cylinder, :km_s, center=[:boxcenter])\n",
    "r_vrot = getvar(gas, :r_cylinder, :kpc, center=[:boxcenter])\n",
    "mass = getvar(gas, :mass, center=[:boxcenter]); # mass in each cell in code unit, used for the weighting"
   ]
  },
  {
   "cell_type": "code",
   "execution_count": null,
   "id": "c8004d28-d7fd-4b71-98d6-80ad0a781cff",
   "metadata": {},
   "outputs": [],
   "source": [
    "# create radial surfacedensity profile\n",
    "rrange = 0:0.25:10 # binning [kpc]\n",
    "\n",
    "hsd  = fit(Histogram, rmap[:], weights(sdmap[:]),  rrange )\n",
    "nhsd = fit(Histogram, rmap[:], rrange )\n",
    "Σprofile = hsd.weights ./ nhsd.weights # get average\n",
    "Σradius = rrange[1:end-1];"
   ]
  },
  {
   "cell_type": "code",
   "execution_count": null,
   "id": "924e9894-0ddc-4bc6-bc8b-c8fafd4f4ca2",
   "metadata": {},
   "outputs": [],
   "source": [
    "# create radial vrot profile\n",
    "rrange = 0:0.25:10 # binning [kpc]\n",
    "\n",
    "hvrot = fit(Histogram, r_vrot, weights(vrot .* mass),  rrange )\n",
    "hmass = fit(Histogram, r_vrot, weights( mass),  rrange )\n",
    "vrot_profile = hvrot.weights ./ hmass.weights # get mass-weighted average\n",
    "vrot_radius = rrange[1:end-1];"
   ]
  },
  {
   "cell_type": "code",
   "execution_count": null,
   "id": "8ee684a5-d148-4f3a-b49f-8e478672c15b",
   "metadata": {},
   "outputs": [],
   "source": [
    "figure(figsize=(9,4))\n",
    "subplot(1,2,1)\n",
    "    plot(Σradius, Σprofile)\n",
    "    yscale(\"log\")\n",
    "    xlabel(\"Rdisk [kpc]\")\n",
    "    ylabel(\"Σ [Msun/pc^2]\")\n",
    "\n",
    "subplot(1,2,2)\n",
    "    plot(vrot_radius, vrot_profile)\n",
    "    xlabel(\"Rdisc [Msun/pc^2]\")\n",
    "    ylabel(\"Vrot [km/s]\")\n",
    "\n",
    "tight_layout()"
   ]
  },
  {
   "cell_type": "code",
   "execution_count": null,
   "id": "2931e90e-aa9d-46f9-b80a-72e57375bc7f",
   "metadata": {},
   "outputs": [],
   "source": []
  },
  {
   "cell_type": "markdown",
   "id": "18124555-1ae7-4804-b489-3d0e5c1a2ff5",
   "metadata": {},
   "source": [
    "## Getvar\n",
    "Get/extract quantities from the data table or derive them:"
   ]
  },
  {
   "cell_type": "code",
   "execution_count": null,
   "id": "71237af9-f124-4652-958f-11675190a8a8",
   "metadata": {},
   "outputs": [],
   "source": [
    "getvar()"
   ]
  },
  {
   "cell_type": "code",
   "execution_count": null,
   "id": "ddba5782-3e14-4dac-b946-dd08b849e07b",
   "metadata": {},
   "outputs": [],
   "source": []
  },
  {
   "cell_type": "code",
   "execution_count": null,
   "id": "6750d563-5575-4685-898d-068ca06dda86",
   "metadata": {},
   "outputs": [],
   "source": []
  },
  {
   "cell_type": "markdown",
   "id": "a433a7ad-cdda-4854-869c-59a2cc06b65f",
   "metadata": {},
   "source": [
    "## Phase Diagram"
   ]
  },
  {
   "cell_type": "code",
   "execution_count": null,
   "id": "79d84e6e-eeba-45a7-823a-e31cc7c1c404",
   "metadata": {},
   "outputs": [],
   "source": [
    "cmap2 = ColorMap(reverse((ColorSchemes.romaO.colors)))\n",
    "\n",
    "Temperature = getvar(gas, :T, :K)\n",
    "nH = getvar(gas, :rho, :nH)\n",
    "mass = getvar(gas, :mass, :Msun)\n",
    "\n",
    "Trange = 1:0.02:9\n",
    "nHrange = -5.5:0.02:2.5\n",
    "\n",
    "# 2d histogram\n",
    "hsd = fit(Histogram, (log10.(nH), log10.(Temperature)), weights(mass),  (nHrange, Trange) );\n",
    "extent = [minimum(hsd.edges[1]), maximum(hsd.edges[1]), minimum(hsd.edges[2]), maximum(hsd.edges[2])];\n",
    "\n",
    "imshow(log10.(hsd.weights)', origin=\"lower\", interpolation=\"none\", cmap=cmap2, extent=extent)\n",
    "colorbar(label=\"log10(mass/pixel) [Msun]\")\n",
    "xlabel(\"log10(nH/cm^3)\")\n",
    "ylabel(\"log10(T/K)\");"
   ]
  },
  {
   "cell_type": "markdown",
   "id": "b27195d8-4a30-4536-9f28-7c12a4409e33",
   "metadata": {},
   "source": [
    "## Masking"
   ]
  },
  {
   "cell_type": "code",
   "execution_count": null,
   "id": "e0f7a58f-7b75-40f9-8562-7cd5031fc25b",
   "metadata": {},
   "outputs": [],
   "source": [
    "# select the cold gas\n",
    "mask_density = getvar(gas, :rho, :nH) .> 1e-2 # cm-3\n",
    "mask_Temp    = getvar(gas, :T, :K) .< 5e2 # K\n",
    "mask_tot = mask_density .* mask_Temp;"
   ]
  },
  {
   "cell_type": "code",
   "execution_count": null,
   "id": "d0f0d275-b98a-4ba4-9d72-afc0a2cb0f9e",
   "metadata": {},
   "outputs": [],
   "source": [
    "msum(gas, :Msun, mask=mask_tot) # total mass of the masked/selected region"
   ]
  },
  {
   "cell_type": "code",
   "execution_count": null,
   "id": "2f3011d9-e288-4213-9d7a-5d41fa15e51c",
   "metadata": {},
   "outputs": [],
   "source": [
    "# project the selected region\n",
    "psd_cold = projection(gas, :sd, :Msun_pc2, mask=mask_tot, verbose=false);\n",
    "imshow(log10.(psd_cold.maps[:sd])', origin=\"lower\", cmap=cmap2 )\n",
    "axis(\"off\")"
   ]
  },
  {
   "cell_type": "code",
   "execution_count": null,
   "id": "89b83ab5-d198-4791-8500-441ff7e61740",
   "metadata": {},
   "outputs": [],
   "source": [
    "# load data only one time\n",
    "nH = getvar(gas, :rho, :nH)  \n",
    "Temp = getvar(gas, :T, :K) \n",
    "\n",
    "# prep masked regions\n",
    "mask_density_h = nH .< 10.\n",
    "mask_density_l = nH .> 1e-2\n",
    "\n",
    "mask_Temp_h    =  Temp .< 1e5 # K\n",
    "mask_Temp_l    =  Temp .> 1e4 # K\n",
    "\n",
    "# combine all masks\n",
    "mask_tot = mask_density_h .* mask_density_l .* mask_Temp_h .* mask_Temp_l;"
   ]
  },
  {
   "cell_type": "code",
   "execution_count": null,
   "id": "b88fab20-cd8a-4281-8fa5-35f80a883090",
   "metadata": {},
   "outputs": [],
   "source": [
    "psd_warm = projection(gas, :sd, :Msun_pc2, mask=mask_tot, verbose=false);\n",
    "imshow(log10.(psd_warm.maps[:sd])', origin=\"lower\", cmap=cmap2 )\n",
    "axis(\"off\");"
   ]
  },
  {
   "cell_type": "code",
   "execution_count": null,
   "id": "c0e8bf1a-7357-4b8f-ae94-31950f042101",
   "metadata": {},
   "outputs": [],
   "source": []
  },
  {
   "cell_type": "code",
   "execution_count": null,
   "id": "a4dbc8b5-4008-4d1a-b415-3df863b954a4",
   "metadata": {},
   "outputs": [],
   "source": []
  }
 ],
 "metadata": {
  "kernelspec": {
   "display_name": "Julia 1.6.7",
   "language": "julia",
   "name": "julia-1.6"
  },
  "language_info": {
   "file_extension": ".jl",
   "mimetype": "application/julia",
   "name": "julia",
   "version": "1.6.7"
  }
 },
 "nbformat": 4,
 "nbformat_minor": 5
}
