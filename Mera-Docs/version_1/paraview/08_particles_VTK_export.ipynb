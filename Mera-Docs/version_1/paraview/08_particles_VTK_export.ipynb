{
 "cells": [
  {
   "cell_type": "markdown",
   "id": "cd952526-af54-4931-ac34-ea8b0c718a41",
   "metadata": {},
   "source": [
    "# Particles: Export Selected Variables to VTK "
   ]
  },
  {
   "cell_type": "markdown",
   "id": "652c2dd6-0844-4a63-bdaf-73a0eee3c781",
   "metadata": {},
   "source": [
    "## Simulation Overview & Load Particle Data"
   ]
  },
  {
   "cell_type": "code",
   "execution_count": 1,
   "id": "a6ecbb16-474c-4df3-a88e-9c537103e736",
   "metadata": {},
   "outputs": [
    {
     "name": "stdout",
     "output_type": "stream",
     "text": [
      "\u001b[0m\u001b[1m[Mera]: 2025-06-28T16:52:16.672\u001b[22m\n",
      "\n",
      "Use datatype: hydro\n",
      "Code: RAMSES\n",
      "output [600] summary:\n",
      "mtime: 2024-09-08T15:29:04\n",
      "ctime: 2024-09-10T11:23:16.230\n",
      "\u001b[0m\u001b[1m=======================================================\u001b[22m\n",
      "simulation time: 891.71 [Myr]\n",
      "boxlen: 48.0 [kpc]\n",
      "ncpu: 5120\n",
      "ndim: 3\n",
      "-------------------------------------------------------\n",
      "amr:           true\n",
      "level(s): 6 - 13 --> cellsize(s): 750.0 [pc] - 5.86 [pc]\n",
      "-------------------------------------------------------\n",
      "hydro:         true\n",
      "hydro-variables:  7  --> (:rho, :vx, :vy, :vz, :p, :var6, :var7)\n",
      "hydro-descriptor: (:density, :velocity_x, :velocity_y, :velocity_z, :pressure, :scalar_00, :scalar_01)\n",
      "γ: 1.6667\n",
      "-------------------------------------------------------\n",
      "gravity:       true\n",
      "gravity-variables: (:epot, :ax, :ay, :az)\n",
      "-------------------------------------------------------\n",
      "particles:     true\n",
      "- Nstars:   1.353087e+06 \n",
      "particle-variables: 7  --> (:vx, :vy, :vz, :mass, :family, :tag, :birth)\n",
      "particle-descriptor: (:position_x, :position_y, :position_z, :velocity_x, :velocity_y, :velocity_z, :mass, :identity, :levelp, :family, :tag, :birth_time)\n",
      "-------------------------------------------------------\n",
      "rt:            false\n",
      "clumps:           false\n",
      "-------------------------------------------------------\n",
      "namelist-file: (\"&COOLING_PARAMS\", \"&HYDRO_PARAMS\", \"&SF_PARAMS\", \"&AMR_PARAMS\", \"&BOUNDARY_PARAMS\", \"&OUTPUT_PARAMS\", \"&POISSON_PARAMS\", \"&INIT_PARAMS\", \"&RUN_PARAMS\", \"&FEEDBACK_PARAMS\", \"&REFINE_PARAMS\")\n",
      "-------------------------------------------------------\n",
      "timer-file:       true\n",
      "compilation-file: true\n",
      "makefile:         true\n",
      "patchfile:        true\n",
      "\u001b[0m\u001b[1m=======================================================\u001b[22m\n",
      "\n",
      "\u001b[0m\u001b[1m[Mera]: 2025-06-28T16:52:22.750\u001b[22m\n",
      "\n",
      "Open Mera-file output_00600.jld2:\n",
      "\n",
      "domain:\n",
      "xmin::xmax: 0.0 :: 1.0  \t==> 0.0 [kpc] :: 48.0 [kpc]\n",
      "ymin::ymax: 0.0 :: 1.0  \t==> 0.0 [kpc] :: 48.0 [kpc]\n",
      "zmin::zmax: 0.0 :: 1.0  \t==> 0.0 [kpc] :: 48.0 [kpc]\n",
      "\n",
      "Memory used for data table :95.81350612640381 MB\n",
      "-------------------------------------------------------\n",
      "\n"
     ]
    }
   ],
   "source": [
    "using Mera\n",
    "# use compressed Mera file\n",
    "path = \"/Volumes/FASTStorage/Simulations/Mera-Tests/AV5CDhr/\";\n",
    "info = infodata(600, path)\n",
    "particles = loaddata(600, path, :particles); # load full box"
   ]
  },
  {
   "cell_type": "markdown",
   "id": "7f47995d-e4cd-4368-be13-6f29de7888d5",
   "metadata": {},
   "source": [
    "## Export Scalars"
   ]
  },
  {
   "cell_type": "markdown",
   "id": "284955b5-75ed-4171-a2d0-baa12b5499e7",
   "metadata": {},
   "source": [
    "### Standard Export"
   ]
  },
  {
   "cell_type": "code",
   "execution_count": 4,
   "id": "9dc701db-d2e8-4348-9a35-cee7f10cf4be",
   "metadata": {},
   "outputs": [
    {
     "name": "stdout",
     "output_type": "stream",
     "text": [
      "\u001b[0m\u001b[1m[Mera]: 2025-06-28T16:54:51.056\u001b[22m\n",
      "\n",
      "Available Threads: 1\n",
      "Total particles in dataset: 1353087\n",
      "Extracting particle positions...\n",
      "Extracting scalar data...\n",
      "Writing particle VTU file...\n",
      "  wrote 0600_galaxy.vtu (Size: 73.55 MB)\n",
      "Memory cleaned\n",
      "\n",
      "=== Export Summary ===\n",
      "Particles exported: 1353087\n",
      "Particle VTU file: 0600_galaxy.vtu\n",
      "Available scalars: mass, age\n"
     ]
    }
   ],
   "source": [
    "# Export full box with all particles (here only stellar particles)\n",
    "\n",
    "export_vtk(\n",
    "    particles,                      # loaded data\n",
    "    \"output_part01/0600_galaxy\";    # prefix for outputfiles; creates folder output_part01 (if not existing) \n",
    "    scalars=[:mass, :age],          # load mass data in Msun and particle age data in Myr\n",
    "    scalars_unit=[:Msun, :Myr],\n",
    "    scalars_log10=true,             # apply log10 on the scalars\n",
    "    positions_unit=:kpc,            # particle positions in kpc (useful in Paraview for region selection)                   \n",
    ");"
   ]
  },
  {
   "cell_type": "code",
   "execution_count": 5,
   "id": "beff2cf2-2719-4ab5-877a-75de4678a508",
   "metadata": {},
   "outputs": [
    {
     "data": {
      "text/plain": [
       "1-element Vector{String}:\n",
       " \"0600_galaxy.vtu\""
      ]
     },
     "execution_count": 5,
     "metadata": {},
     "output_type": "execute_result"
    }
   ],
   "source": [
    "readdir(\"output_part01\")"
   ]
  },
  {
   "cell_type": "code",
   "execution_count": 19,
   "id": "fe05cf26-5beb-4db2-bf32-458d86f19cb0",
   "metadata": {},
   "outputs": [],
   "source": [
    "# => in Paraview open the vtu file to load all level data"
   ]
  },
  {
   "cell_type": "code",
   "execution_count": null,
   "id": "c10ccd2d-844e-4b7b-a7ee-2aa0f3859a79",
   "metadata": {},
   "outputs": [],
   "source": []
  },
  {
   "cell_type": "markdown",
   "id": "350d37d5-bbbf-4000-bd9c-e88690677926",
   "metadata": {},
   "source": [
    "### Export Maximum Number of Particles"
   ]
  },
  {
   "cell_type": "code",
   "execution_count": 7,
   "id": "0914c454-23e5-4f2c-b790-902410c49769",
   "metadata": {},
   "outputs": [
    {
     "name": "stdout",
     "output_type": "stream",
     "text": [
      "\u001b[0m\u001b[1m[Mera]: 2025-06-28T16:57:30.111\u001b[22m\n",
      "\n",
      "Available Threads: 1\n",
      "Total particles in dataset: 1353087\n",
      "Limiting export to 1000 particles (from 1353087)\n",
      "Extracting particle positions...\n",
      "Extracting scalar data...\n",
      "Writing particle VTU file...\n",
      "  wrote 0600_galaxy.vtu (Size: 0.05 MB)\n",
      "Memory cleaned\n",
      "\n",
      "=== Export Summary ===\n",
      "Particles exported: 1000\n",
      "Particle VTU file: 0600_galaxy.vtu\n",
      "Available scalars: age\n"
     ]
    }
   ],
   "source": [
    "# Export full box (here only stellar particles)\n",
    "# -> limit the number of particles\n",
    "\n",
    "export_vtk(\n",
    "    particles,                      # loaded data\n",
    "    \"output_part03/0600_galaxy\";    # prefix for outputfiles; creates folder output_part03 (if not existing) \n",
    "    scalars=[:age],                 # load age data in Myra\n",
    "    scalars_unit=[:Myr],\n",
    "    scalars_log10=true,             # apply log10 on the scalars\n",
    "    positions_unit=:kpc,            # particle positions in kpc (useful in Paraview for region selection)\n",
    "\n",
    "    max_particles=1_000             # (caps output if exceeded)\n",
    ");"
   ]
  },
  {
   "cell_type": "code",
   "execution_count": 8,
   "id": "efe30b75-6838-4f99-b6e2-494b1e62600f",
   "metadata": {},
   "outputs": [
    {
     "data": {
      "text/plain": [
       "1-element Vector{String}:\n",
       " \"0600_galaxy.vtu\""
      ]
     },
     "execution_count": 8,
     "metadata": {},
     "output_type": "execute_result"
    }
   ],
   "source": [
    "readdir(\"output_part03\")"
   ]
  },
  {
   "cell_type": "code",
   "execution_count": 24,
   "id": "b1129188-ad11-4219-be63-e09a5d0972c7",
   "metadata": {},
   "outputs": [],
   "source": [
    "# => in Paraview open the vtu file to load all level data"
   ]
  },
  {
   "cell_type": "markdown",
   "id": "08453390-4b27-488a-ad80-75f470e1a258",
   "metadata": {},
   "source": [
    "## Export Scalars and Vector"
   ]
  },
  {
   "cell_type": "code",
   "execution_count": 9,
   "id": "9ddf726d-ed84-4ba3-a7d6-d1eb954795c6",
   "metadata": {},
   "outputs": [
    {
     "name": "stdout",
     "output_type": "stream",
     "text": [
      "\u001b[0m\u001b[1m[Mera]: 2025-06-28T16:58:14.003\u001b[22m\n",
      "\n",
      "Available Threads: 1\n",
      "Created directory: output_part04\n",
      "Total particles in dataset: 1353087\n",
      "Extracting particle positions...\n",
      "Extracting scalar data...\n",
      "Extracting vector data...\n",
      "Vector matrix dimensions: (3, 1353087) (should be 3×1353087)\n",
      "Writing particle VTU file...\n",
      "  wrote 0600_galaxy.vtu (Size: 94.2 MB)\n",
      "Memory cleaned\n",
      "\n",
      "=== Export Summary ===\n",
      "Particles exported: 1353087\n",
      "Particle VTU file: 0600_galaxy.vtu\n",
      "Available scalars: age\n",
      "Available vector: velocity\n"
     ]
    }
   ],
   "source": [
    "# Export full box with particles (here only stellar particles)\n",
    "\n",
    "export_vtk(\n",
    "    particles,                      # loaded data\n",
    "    \"output_part04/0600_galaxy\";    # prefix for outputfiles; creates folder output_part04 (if not existing) \n",
    "    scalars=[:age],                 # load age data in Myr\n",
    "    scalars_unit=[:Msun],\n",
    "    scalars_log10=true,             # apply log10 on the scalars\n",
    "    positions_unit=:kpc,            # particle positions in kpc (useful in Paraview for region selection)\n",
    "\n",
    "    vector=[:vx, :vy, :vz],         # velocity components and its units\n",
    "    vector_unit=:km_s,\n",
    "    vector_name=\"velocity\"          # vector name recognized by Paraview\n",
    ");"
   ]
  },
  {
   "cell_type": "code",
   "execution_count": 10,
   "id": "7c2ea96a-344f-4902-b08f-d70a04671adc",
   "metadata": {},
   "outputs": [
    {
     "data": {
      "text/plain": [
       "1-element Vector{String}:\n",
       " \"0600_galaxy.vtu\""
      ]
     },
     "execution_count": 10,
     "metadata": {},
     "output_type": "execute_result"
    }
   ],
   "source": [
    "readdir(\"output_part04\")"
   ]
  },
  {
   "cell_type": "code",
   "execution_count": 27,
   "id": "07ffd519-a043-4235-9178-f4cc96351a56",
   "metadata": {},
   "outputs": [],
   "source": [
    "# => in Paraview open\n",
    "# - the vtu file to load all particle scalar and vector data"
   ]
  },
  {
   "cell_type": "markdown",
   "id": "821b6f96-93c3-4b59-8876-cf76a6113721",
   "metadata": {},
   "source": [
    "## Visualisation in Paraview"
   ]
  },
  {
   "cell_type": "markdown",
   "id": "ddca1602-a002-4a03-aeb4-2b142d68c7d4",
   "metadata": {},
   "source": [
    "### Visualize Particles in 3D"
   ]
  },
  {
   "cell_type": "code",
   "execution_count": 11,
   "id": "e78c456b-f749-493c-9866-dd7685d0c74e",
   "metadata": {},
   "outputs": [
    {
     "name": "stdout",
     "output_type": "stream",
     "text": [
      "\u001b[0m\u001b[1m[Mera]: 2025-06-28T17:02:48.237\u001b[22m\n",
      "\n",
      "Available Threads: 1\n",
      "Created directory: output_part05\n",
      "Total particles in dataset: 1353087\n",
      "Extracting particle positions...\n",
      "Extracting scalar data...\n",
      "Extracting vector data...\n",
      "Vector matrix dimensions: (3, 1353087) (should be 3×1353087)\n",
      "Writing particle VTU file...\n",
      "  wrote 0600_galaxy.vtu (Size: 104.52 MB)\n",
      "Memory cleaned\n",
      "\n",
      "=== Export Summary ===\n",
      "Particles exported: 1353087\n",
      "Particle VTU file: 0600_galaxy.vtu\n",
      "Available scalars: id, age\n",
      "Available vector: velocity\n"
     ]
    }
   ],
   "source": [
    "# Export full box with scalars and vector data\n",
    "\n",
    "export_vtk(\n",
    "    particles,                      # loaded data\n",
    "    \"output_part05/0600_galaxy\";    # prefix for outputfiles; creates folder output05 (if not existing) \n",
    "    scalars=[:id, :age],            # load density data in cm^-3 \n",
    "    scalars_unit=[:standard, :Myr],\n",
    "    positions_unit=:kpc,            # particle positions in kpc (useful in Paraview for region selection)\n",
    "\n",
    "    vector=[:vx, :vy, :vz],         # velocity components and its units\n",
    "    vector_unit=:km_s,\n",
    "    vector_name=\"velocity\"          # vector name recognized by Paraview\n",
    ");"
   ]
  },
  {
   "cell_type": "code",
   "execution_count": 12,
   "id": "8f602c9c-2ddd-4f51-a27a-4e2bd146143c",
   "metadata": {},
   "outputs": [
    {
     "data": {
      "text/plain": [
       "1-element Vector{String}:\n",
       " \"0600_galaxy.vtu\""
      ]
     },
     "execution_count": 12,
     "metadata": {},
     "output_type": "execute_result"
    }
   ],
   "source": [
    "readdir(\"output_part05\")"
   ]
  },
  {
   "cell_type": "markdown",
   "id": "cc31bd45-517e-42d4-b7e8-8e9c3a2515c7",
   "metadata": {},
   "source": [
    "**Load Data-File**"
   ]
  },
  {
   "cell_type": "markdown",
   "id": "afbcc9b7-3caf-4a9e-bccf-7459b3c62d6a",
   "metadata": {},
   "source": [
    "![](images/01_particles.jpg)"
   ]
  },
  {
   "cell_type": "code",
   "execution_count": null,
   "id": "9f9e800b-dd65-4e4f-a6f2-0ef83db9ce76",
   "metadata": {},
   "outputs": [],
   "source": []
  },
  {
   "cell_type": "markdown",
   "id": "fa5ba537-24c5-43b9-bde3-fa283cf3e473",
   "metadata": {},
   "source": [
    "**Select age information**"
   ]
  },
  {
   "cell_type": "markdown",
   "id": "952a0d1e-6880-4cf0-8957-a8ae280eb276",
   "metadata": {},
   "source": [
    "![](images/02_particles.jpg)"
   ]
  },
  {
   "cell_type": "code",
   "execution_count": null,
   "id": "81829a90-451d-480b-9e13-8b329a42c01c",
   "metadata": {},
   "outputs": [],
   "source": [
    "# => save state"
   ]
  },
  {
   "cell_type": "markdown",
   "id": "f60634bd-dd54-4e95-80de-fa0b386a86dd",
   "metadata": {},
   "source": [
    "### Visualize Particles & Vectors"
   ]
  },
  {
   "cell_type": "markdown",
   "id": "1d3d9d54-e42b-4a90-a3ca-42f0fef974aa",
   "metadata": {},
   "source": [
    "**Select Glyphs, arrow orientation, number of sample points**"
   ]
  },
  {
   "cell_type": "markdown",
   "id": "39169518-a941-474f-940a-2a1a84d9869b",
   "metadata": {},
   "source": [
    "![](images/01_particles2.jpg)"
   ]
  },
  {
   "cell_type": "code",
   "execution_count": null,
   "id": "d4ac2c04-16cc-4524-ab50-270a9ee7026f",
   "metadata": {},
   "outputs": [],
   "source": [
    "# => save state"
   ]
  }
 ],
 "metadata": {
  "kernelspec": {
   "display_name": "Julia 1.11.5",
   "language": "julia",
   "name": "julia-1.11"
  },
  "language_info": {
   "file_extension": ".jl",
   "mimetype": "application/julia",
   "name": "julia",
   "version": "1.11.5"
  }
 },
 "nbformat": 4,
 "nbformat_minor": 5
}
