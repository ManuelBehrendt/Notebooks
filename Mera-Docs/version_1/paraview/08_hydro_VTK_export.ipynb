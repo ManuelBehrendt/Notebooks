{
 "cells": [
  {
   "cell_type": "markdown",
   "id": "cd952526-af54-4931-ac34-ea8b0c718a41",
   "metadata": {},
   "source": [
    "# Hydro: Export Selected Variables to VTK "
   ]
  },
  {
   "cell_type": "markdown",
   "id": "652c2dd6-0844-4a63-bdaf-73a0eee3c781",
   "metadata": {},
   "source": [
    "## Simulation Overview & Load Hydro Data"
   ]
  },
  {
   "cell_type": "code",
   "execution_count": 15,
   "id": "a6ecbb16-474c-4df3-a88e-9c537103e736",
   "metadata": {},
   "outputs": [
    {
     "name": "stdout",
     "output_type": "stream",
     "text": [
      "\u001b[0m\u001b[1m[Mera]: 2025-06-28T15:06:54.435\u001b[22m\n",
      "\n",
      "Use datatype: hydro\n",
      "Code: RAMSES\n",
      "output [600] summary:\n",
      "mtime: 2024-09-08T15:29:04\n",
      "ctime: 2024-09-10T11:23:16.230\n",
      "\u001b[0m\u001b[1m=======================================================\u001b[22m\n",
      "simulation time: 891.71 [Myr]\n",
      "boxlen: 48.0 [kpc]\n",
      "ncpu: 5120\n",
      "ndim: 3\n",
      "-------------------------------------------------------\n",
      "amr:           true\n",
      "level(s): 6 - 13 --> cellsize(s): 750.0 [pc] - 5.86 [pc]\n",
      "-------------------------------------------------------\n",
      "hydro:         true\n",
      "hydro-variables:  7  --> (:rho, :vx, :vy, :vz, :p, :var6, :var7)\n",
      "hydro-descriptor: (:density, :velocity_x, :velocity_y, :velocity_z, :pressure, :scalar_00, :scalar_01)\n",
      "γ: 1.6667\n",
      "-------------------------------------------------------\n",
      "gravity:       true\n",
      "gravity-variables: (:epot, :ax, :ay, :az)\n",
      "-------------------------------------------------------\n",
      "particles:     true\n",
      "- Nstars:   1.353087e+06 \n",
      "particle-variables: 7  --> (:vx, :vy, :vz, :mass, :family, :tag, :birth)\n",
      "particle-descriptor: (:position_x, :position_y, :position_z, :velocity_x, :velocity_y, :velocity_z, :mass, :identity, :levelp, :family, :tag, :birth_time)\n",
      "-------------------------------------------------------\n",
      "rt:            false\n",
      "clumps:           false\n",
      "-------------------------------------------------------\n",
      "namelist-file: (\"&COOLING_PARAMS\", \"&HYDRO_PARAMS\", \"&SF_PARAMS\", \"&AMR_PARAMS\", \"&BOUNDARY_PARAMS\", \"&OUTPUT_PARAMS\", \"&POISSON_PARAMS\", \"&INIT_PARAMS\", \"&RUN_PARAMS\", \"&FEEDBACK_PARAMS\", \"&REFINE_PARAMS\")\n",
      "-------------------------------------------------------\n",
      "timer-file:       true\n",
      "compilation-file: true\n",
      "makefile:         true\n",
      "patchfile:        true\n",
      "\u001b[0m\u001b[1m=======================================================\u001b[22m\n",
      "\n",
      "\u001b[0m\u001b[1m[Mera]: 2025-06-28T15:06:54.479\u001b[22m\n",
      "\n",
      "Open Mera-file output_00600.jld2:\n",
      "\n",
      "domain:\n",
      "xmin::xmax: 0.0 :: 1.0  \t==> 0.0 [kpc] :: 48.0 [kpc]\n",
      "ymin::ymax: 0.0 :: 1.0  \t==> 0.0 [kpc] :: 48.0 [kpc]\n",
      "zmin::zmax: 0.0 :: 1.0  \t==> 0.0 [kpc] :: 48.0 [kpc]\n",
      "\n",
      "Memory used for data table :8.63788466155529 GB\n",
      "-------------------------------------------------------\n",
      "\n"
     ]
    }
   ],
   "source": [
    "using Mera\n",
    "# use compressed Mera file\n",
    "path = \"/Volumes/FASTStorage/Simulations/Mera-Tests/AV5CDhr/\";\n",
    "info = infodata(600, path)\n",
    "gas = loaddata(600, path, :hydro); # load full box"
   ]
  },
  {
   "cell_type": "markdown",
   "id": "7f47995d-e4cd-4368-be13-6f29de7888d5",
   "metadata": {},
   "source": [
    "## Export Scalars"
   ]
  },
  {
   "cell_type": "markdown",
   "id": "284955b5-75ed-4171-a2d0-baa12b5499e7",
   "metadata": {},
   "source": [
    "### Standard Export"
   ]
  },
  {
   "cell_type": "code",
   "execution_count": 16,
   "id": "9dc701db-d2e8-4348-9a35-cee7f10cf4be",
   "metadata": {},
   "outputs": [
    {
     "name": "stdout",
     "output_type": "stream",
     "text": [
      "\u001b[0m\u001b[1m[Mera]: 2025-06-28T15:07:40.866\u001b[22m\n",
      "\n",
      "Available Threads: 1\n",
      "Created directory: output01\n",
      "Processing levels: [6, 7, 8, 9]\n",
      "Will interpolate levels [10, 11, 12, 13] down to 9\n",
      "Level 6\n",
      "  wrote 0600_galaxy_L6.vtu (Size: 0.0 GB)\n",
      "  ✓ Level 6 completed, memory cleaned\n",
      "Level 7\n",
      "  wrote 0600_galaxy_L7.vtu (Size: 0.02 GB)\n",
      "  ✓ Level 7 completed, memory cleaned\n",
      "Level 8\n",
      "  wrote 0600_galaxy_L8.vtu (Size: 0.33 GB)\n",
      "  ✓ Level 8 completed, memory cleaned\n",
      "Level 9\n",
      "  Including higher levels for interpolation\n",
      "  Interpolating down to level 9\n",
      "  Unique coarse cells at level 9: 13663000 (out of max 134217728)\n",
      "  → 13663000 coarse cells after interpolation\n",
      "  wrote 0600_galaxy_L9.vtu (Size: 0.64 GB)\n",
      "  ✓ Level 9 completed, memory cleaned\n",
      "  Added block 'Level_6' to scalar VTM for 0600_galaxy_L6.vtu\n",
      "  Added block 'Level_7' to scalar VTM for 0600_galaxy_L7.vtu\n",
      "  Added block 'Level_8' to scalar VTM for 0600_galaxy_L8.vtu\n",
      "  Added block 'Level_9' to scalar VTM for 0600_galaxy_L9.vtu\n",
      "Created scalar multiblock: 0600_galaxy_scalar.vtm\n",
      "  Updating scalar VTM file to reference scalar VTU files...\n",
      "    - Added reference to 0600_galaxy_L6.vtu in block 'Level_6' of scalar VTM\n",
      "    - Added reference to 0600_galaxy_L7.vtu in block 'Level_7' of scalar VTM\n",
      "    - Added reference to 0600_galaxy_L8.vtu in block 'Level_8' of scalar VTM\n",
      "    - Added reference to 0600_galaxy_L9.vtu in block 'Level_9' of scalar VTM\n",
      "  Updated scalar VTM file with references to scalar VTU files at: 0600_galaxy_scalar.vtm\n",
      "\n",
      "=== Export Summary ===\n",
      "VTU files (scalars): 4\n",
      "Scalar VTM: 0600_galaxy_scalar.vtm\n",
      "Available scalars: rho, T, AMR_Level\n"
     ]
    }
   ],
   "source": [
    "# Export full box with lmax = 9 \n",
    "# -> interpolating levels 13,12,11,10, down to 9\n",
    "\n",
    "export_vtk(\n",
    "    gas,                       # loaded data\n",
    "    \"output01/0600_galaxy\";    # prefix for outputfiles; creates folder output01 (if not existing) \n",
    "    scalars=[:rho, :T],        # load density data in cm^-3 and temperature data in Kelvin \n",
    "    scalars_unit=[:nH, :K],\n",
    "    scalars_log10=true,        # apply log10 on the scalars\n",
    "    positions_unit=:kpc,       # cell positions in kpc (useful in Paraview for region selection)\n",
    "    lmax=9                     \n",
    ");"
   ]
  },
  {
   "cell_type": "code",
   "execution_count": 39,
   "id": "beff2cf2-2719-4ab5-877a-75de4678a508",
   "metadata": {},
   "outputs": [
    {
     "data": {
      "text/plain": [
       "1-element Vector{String}:\n",
       " \"0600_galaxy.vtu\""
      ]
     },
     "execution_count": 39,
     "metadata": {},
     "output_type": "execute_result"
    }
   ],
   "source": [
    "readdir(\"output_part01\")"
   ]
  },
  {
   "cell_type": "code",
   "execution_count": 19,
   "id": "fe05cf26-5beb-4db2-bf32-458d86f19cb0",
   "metadata": {},
   "outputs": [],
   "source": [
    "# => in Paraview open the vtu file to load all level data"
   ]
  },
  {
   "cell_type": "code",
   "execution_count": null,
   "id": "c10ccd2d-844e-4b7b-a7ee-2aa0f3859a79",
   "metadata": {},
   "outputs": [],
   "source": []
  },
  {
   "cell_type": "markdown",
   "id": "350d37d5-bbbf-4000-bd9c-e88690677926",
   "metadata": {},
   "source": [
    "### Export Maximum Number of Cells"
   ]
  },
  {
   "cell_type": "code",
   "execution_count": 33,
   "id": "0914c454-23e5-4f2c-b790-902410c49769",
   "metadata": {},
   "outputs": [
    {
     "name": "stdout",
     "output_type": "stream",
     "text": [
      "\u001b[0m\u001b[1m[Mera]: 2025-06-28T16:04:43.533\u001b[22m\n",
      "\n",
      "Available Threads: 1\n",
      "Processing levels: [6, 7, 8, 9, 10]\n",
      "Will interpolate levels [11, 12, 13] down to 10\n",
      "Level 6\n",
      "  wrote 0600_galaxy_L6.vtu (Size: 0.0 GB)\n",
      "  ✓ Level 6 completed, memory cleaned\n",
      "Level 7\n",
      "  wrote 0600_galaxy_L7.vtu (Size: 0.02 GB)\n",
      "  ✓ Level 7 completed, memory cleaned\n",
      "Level 8\n",
      "  wrote 0600_galaxy_L8.vtu (Size: 0.33 GB)\n",
      "  ✓ Level 8 completed, memory cleaned\n",
      "Level 9\n",
      "  wrote 0600_galaxy_L9.vtu (Size: 0.54 GB)\n",
      "  ✓ Level 9 completed, memory cleaned\n",
      "Level 10\n",
      "  Including higher levels for interpolation\n",
      "  Interpolating down to level 10\n",
      "  Unique coarse cells at level 10: 6968288 (out of max 1073741824)\n",
      "  Capping output cells to 100000 (from 6968288)\n",
      "  → 100000 coarse cells after interpolation\n",
      "  wrote 0600_galaxy_L10.vtu (Size: 0.0 GB)\n",
      "  ✓ Level 10 completed, memory cleaned\n",
      "  Added block 'Level_6' to scalar VTM for 0600_galaxy_L6.vtu\n",
      "  Added block 'Level_7' to scalar VTM for 0600_galaxy_L7.vtu\n",
      "  Added block 'Level_8' to scalar VTM for 0600_galaxy_L8.vtu\n",
      "  Added block 'Level_9' to scalar VTM for 0600_galaxy_L9.vtu\n",
      "  Added block 'Level_10' to scalar VTM for 0600_galaxy_L10.vtu\n",
      "Created scalar multiblock: 0600_galaxy_scalar.vtm\n",
      "  Updating scalar VTM file to reference scalar VTU files...\n",
      "    - Added reference to 0600_galaxy_L6.vtu in block 'Level_6' of scalar VTM\n",
      "    - Added reference to 0600_galaxy_L7.vtu in block 'Level_7' of scalar VTM\n",
      "    - Added reference to 0600_galaxy_L8.vtu in block 'Level_8' of scalar VTM\n",
      "    - Added reference to 0600_galaxy_L9.vtu in block 'Level_9' of scalar VTM\n",
      "    - Added reference to 0600_galaxy_L10.vtu in block 'Level_10' of scalar VTM\n",
      "  Updated scalar VTM file with references to scalar VTU files at: 0600_galaxy_scalar.vtm\n",
      "\n",
      "=== Export Summary ===\n",
      "VTU files (scalars): 5\n",
      "Scalar VTM: 0600_galaxy_scalar.vtm\n",
      "Available scalars: rho, T, AMR_Level\n"
     ]
    }
   ],
   "source": [
    "# Export full box \n",
    "# -> limit the number of cells\n",
    "# here: not reaching levels 11,12,13\n",
    "export_vtk(\n",
    "    gas,                       # loaded data\n",
    "    \"output03/0600_galaxy\";    # prefix for outputfiles; creates folder output03 (if not existing) \n",
    "    scalars=[:rho, :T],        # load density data in cm^-3 and temperature data in Kelvin \n",
    "    scalars_unit=[:nH, :K],\n",
    "    scalars_log10=true,        # apply log10 on the scalars\n",
    "    positions_unit=:kpc,       # cell positions in kpc (useful in Paraview for region selection)\n",
    "\n",
    "    lmax=10,\n",
    "    max_cells=100_000          # (caps output if exceeded, prioritizing denser regions)\n",
    ");"
   ]
  },
  {
   "cell_type": "code",
   "execution_count": 34,
   "id": "efe30b75-6838-4f99-b6e2-494b1e62600f",
   "metadata": {},
   "outputs": [
    {
     "data": {
      "text/plain": [
       "6-element Vector{String}:\n",
       " \"0600_galaxy_L10.vtu\"\n",
       " \"0600_galaxy_L6.vtu\"\n",
       " \"0600_galaxy_L7.vtu\"\n",
       " \"0600_galaxy_L8.vtu\"\n",
       " \"0600_galaxy_L9.vtu\"\n",
       " \"0600_galaxy_scalar.vtm\""
      ]
     },
     "execution_count": 34,
     "metadata": {},
     "output_type": "execute_result"
    }
   ],
   "source": [
    "readdir(\"output03\")"
   ]
  },
  {
   "cell_type": "code",
   "execution_count": 24,
   "id": "b1129188-ad11-4219-be63-e09a5d0972c7",
   "metadata": {},
   "outputs": [],
   "source": [
    "# => in Paraview open the vtm file to load all level data"
   ]
  },
  {
   "cell_type": "markdown",
   "id": "08453390-4b27-488a-ad80-75f470e1a258",
   "metadata": {},
   "source": [
    "## Export Scalars and Vector"
   ]
  },
  {
   "cell_type": "code",
   "execution_count": 25,
   "id": "9ddf726d-ed84-4ba3-a7d6-d1eb954795c6",
   "metadata": {},
   "outputs": [
    {
     "name": "stdout",
     "output_type": "stream",
     "text": [
      "\u001b[0m\u001b[1m[Mera]: 2025-06-28T15:35:19.707\u001b[22m\n",
      "\n",
      "Available Threads: 1\n",
      "Created directory: output04\n",
      "Processing levels: [6, 7, 8, 9]\n",
      "Will interpolate levels [10, 11, 12, 13] down to 9\n",
      "Level 6\n",
      "  wrote 0600_galaxy_L6.vtu (Size: 0.0 GB)\n",
      "  wrote 0600_galaxy_vec_L6.vtu (Size: 0.0 GB)\n",
      "  ✓ Level 6 completed, memory cleaned\n",
      "Level 7\n",
      "  wrote 0600_galaxy_L7.vtu (Size: 0.01 GB)\n",
      "  wrote 0600_galaxy_vec_L7.vtu (Size: 0.02 GB)\n",
      "  ✓ Level 7 completed, memory cleaned\n",
      "Level 8\n",
      "  wrote 0600_galaxy_L8.vtu (Size: 0.28 GB)\n",
      "  wrote 0600_galaxy_vec_L8.vtu (Size: 0.41 GB)\n",
      "  ✓ Level 8 completed, memory cleaned\n",
      "Level 9\n",
      "  Including higher levels for interpolation\n",
      "  Interpolating down to level 9\n",
      "  Unique coarse cells at level 9: 13663000 (out of max 134217728)\n",
      "  → 13663000 coarse cells after interpolation\n",
      "  wrote 0600_galaxy_L9.vtu (Size: 0.55 GB)\n",
      "  wrote 0600_galaxy_vec_L9.vtu (Size: 0.77 GB)\n",
      "  ✓ Level 9 completed, memory cleaned\n",
      "  Added block 'Level_6' to scalar VTM for 0600_galaxy_L6.vtu\n",
      "  Added block 'Level_7' to scalar VTM for 0600_galaxy_L7.vtu\n",
      "  Added block 'Level_8' to scalar VTM for 0600_galaxy_L8.vtu\n",
      "  Added block 'Level_9' to scalar VTM for 0600_galaxy_L9.vtu\n",
      "Created scalar multiblock: 0600_galaxy_scalar.vtm\n",
      "  Updating scalar VTM file to reference scalar VTU files...\n",
      "    - Added reference to 0600_galaxy_L6.vtu in block 'Level_6' of scalar VTM\n",
      "    - Added reference to 0600_galaxy_L7.vtu in block 'Level_7' of scalar VTM\n",
      "    - Added reference to 0600_galaxy_L8.vtu in block 'Level_8' of scalar VTM\n",
      "    - Added reference to 0600_galaxy_L9.vtu in block 'Level_9' of scalar VTM\n",
      "  Updated scalar VTM file with references to scalar VTU files at: 0600_galaxy_scalar.vtm\n",
      "  Added block 'vec_Level_6' to vector VTM for 0600_galaxy_vec_L6.vtu\n",
      "  Added block 'vec_Level_7' to vector VTM for 0600_galaxy_vec_L7.vtu\n",
      "  Added block 'vec_Level_8' to vector VTM for 0600_galaxy_vec_L8.vtu\n",
      "  Added block 'vec_Level_9' to vector VTM for 0600_galaxy_vec_L9.vtu\n",
      "Created vector multiblock: 0600_galaxy_vector.vtm\n",
      "  Updating vector VTM file to reference vector VTU files...\n",
      "    - Added reference to 0600_galaxy_vec_L6.vtu in block 'vec_Level_6' of vector VTM\n",
      "    - Added reference to 0600_galaxy_vec_L7.vtu in block 'vec_Level_7' of vector VTM\n",
      "    - Added reference to 0600_galaxy_vec_L8.vtu in block 'vec_Level_8' of vector VTM\n",
      "    - Added reference to 0600_galaxy_vec_L9.vtu in block 'vec_Level_9' of vector VTM\n",
      "  Updated vector VTM file with references to vector VTU files at: 0600_galaxy_vector.vtm\n",
      "\n",
      "=== Export Summary ===\n",
      "VTU files (scalars): 4\n",
      "Scalar VTM: 0600_galaxy_scalar.vtm\n",
      "VTU files (vector): 4\n",
      "Vector VTM: 0600_galaxy_vector.vtm\n",
      "Available scalars: rho, AMR_Level\n",
      "Available vector, named: velocity\n"
     ]
    }
   ],
   "source": [
    "# Export full box with lmax = 9 \n",
    "# scalar and vector in separate files\n",
    "# -> interpolating levels 13,12,11,10, down to 9\n",
    "\n",
    "export_vtk(\n",
    "    gas,                       # loaded data\n",
    "    \"output04/0600_galaxy\";    # prefix for outputfiles; creates folder output04 (if not existing) \n",
    "    scalars=[:rho],            # load density data in cm^-3 \n",
    "    scalars_unit=[:nH],\n",
    "    scalars_log10=true,        # apply log10 on the scalars\n",
    "    positions_unit=:kpc,       # cell positions in kpc (useful in Paraview for region selection)\n",
    "    lmax=9 ,\n",
    "\n",
    "    vector=[:vx, :vy, :vz],    # velocity components and its units\n",
    "    vector_unit=:km_s,\n",
    "    vector_name=\"velocity\"     # vector name recognized by Paraview\n",
    ");"
   ]
  },
  {
   "cell_type": "code",
   "execution_count": 36,
   "id": "7c2ea96a-344f-4902-b08f-d70a04671adc",
   "metadata": {},
   "outputs": [
    {
     "data": {
      "text/plain": [
       "10-element Vector{String}:\n",
       " \"0600_galaxy_L6.vtu\"\n",
       " \"0600_galaxy_L7.vtu\"\n",
       " \"0600_galaxy_L8.vtu\"\n",
       " \"0600_galaxy_L9.vtu\"\n",
       " \"0600_galaxy_scalar.vtm\"\n",
       " \"0600_galaxy_vec_L6.vtu\"\n",
       " \"0600_galaxy_vec_L7.vtu\"\n",
       " \"0600_galaxy_vec_L8.vtu\"\n",
       " \"0600_galaxy_vec_L9.vtu\"\n",
       " \"0600_galaxy_vector.vtm\""
      ]
     },
     "execution_count": 36,
     "metadata": {},
     "output_type": "execute_result"
    }
   ],
   "source": [
    "readdir(\"output04\")"
   ]
  },
  {
   "cell_type": "code",
   "execution_count": 27,
   "id": "07ffd519-a043-4235-9178-f4cc96351a56",
   "metadata": {},
   "outputs": [],
   "source": [
    "# => in Paraview open\n",
    "# - the vtm file to load all level data\n",
    "# - open \"0350_galaxy_scalar.vtm\" to load multi-level scalar data\n",
    "# - open  \"0350_galaxy_vector.vtm\"to load mjulti-level vector data\n",
    "# - or open both vtm files together"
   ]
  },
  {
   "cell_type": "markdown",
   "id": "821b6f96-93c3-4b59-8876-cf76a6113721",
   "metadata": {},
   "source": [
    "## Visualisation in Paraview"
   ]
  },
  {
   "cell_type": "markdown",
   "id": "ddca1602-a002-4a03-aeb4-2b142d68c7d4",
   "metadata": {},
   "source": [
    "### Volume Rendering Density"
   ]
  },
  {
   "cell_type": "code",
   "execution_count": 28,
   "id": "3e60fd98-222b-4e76-a28a-049a7a46b15d",
   "metadata": {},
   "outputs": [],
   "source": [
    "# for a test on my laptop I use lmax=8 for the full box\n",
    "# and lmax=9 for the galaxy region"
   ]
  },
  {
   "cell_type": "code",
   "execution_count": null,
   "id": "40e09a2d-76f0-42b4-8398-864c96deee38",
   "metadata": {},
   "outputs": [],
   "source": []
  },
  {
   "cell_type": "code",
   "execution_count": 29,
   "id": "e78c456b-f749-493c-9866-dd7685d0c74e",
   "metadata": {},
   "outputs": [
    {
     "name": "stdout",
     "output_type": "stream",
     "text": [
      "\u001b[0m\u001b[1m[Mera]: 2025-06-28T15:45:52.426\u001b[22m\n",
      "\n",
      "Available Threads: 1\n",
      "Created directory: output05\n",
      "Processing levels: [6, 7, 8]\n",
      "Will interpolate levels [9, 10, 11, 12, 13] down to 8\n",
      "Level 6\n",
      "  wrote 0600_galaxy_L6.vtu (Size: 0.0 GB)\n",
      "  wrote 0600_galaxy_vec_L6.vtu (Size: 0.0 GB)\n",
      "  ✓ Level 6 completed, memory cleaned\n",
      "Level 7\n",
      "  wrote 0600_galaxy_L7.vtu (Size: 0.01 GB)\n",
      "  wrote 0600_galaxy_vec_L7.vtu (Size: 0.02 GB)\n",
      "  ✓ Level 7 completed, memory cleaned\n",
      "Level 8\n",
      "  Including higher levels for interpolation\n",
      "  Interpolating down to level 8\n",
      "  Unique coarse cells at level 8: 9517504 (out of max 16777216)\n",
      "  → 9517504 coarse cells after interpolation\n",
      "  wrote 0600_galaxy_L8.vtu (Size: 0.39 GB)\n",
      "  wrote 0600_galaxy_vec_L8.vtu (Size: 0.55 GB)\n",
      "  ✓ Level 8 completed, memory cleaned\n",
      "  Added block 'Level_6' to scalar VTM for 0600_galaxy_L6.vtu\n",
      "  Added block 'Level_7' to scalar VTM for 0600_galaxy_L7.vtu\n",
      "  Added block 'Level_8' to scalar VTM for 0600_galaxy_L8.vtu\n",
      "Created scalar multiblock: 0600_galaxy_scalar.vtm\n",
      "  Updating scalar VTM file to reference scalar VTU files...\n",
      "    - Added reference to 0600_galaxy_L6.vtu in block 'Level_6' of scalar VTM\n",
      "    - Added reference to 0600_galaxy_L7.vtu in block 'Level_7' of scalar VTM\n",
      "    - Added reference to 0600_galaxy_L8.vtu in block 'Level_8' of scalar VTM\n",
      "  Updated scalar VTM file with references to scalar VTU files at: 0600_galaxy_scalar.vtm\n",
      "  Added block 'vec_Level_6' to vector VTM for 0600_galaxy_vec_L6.vtu\n",
      "  Added block 'vec_Level_7' to vector VTM for 0600_galaxy_vec_L7.vtu\n",
      "  Added block 'vec_Level_8' to vector VTM for 0600_galaxy_vec_L8.vtu\n",
      "Created vector multiblock: 0600_galaxy_vector.vtm\n",
      "  Updating vector VTM file to reference vector VTU files...\n",
      "    - Added reference to 0600_galaxy_vec_L6.vtu in block 'vec_Level_6' of vector VTM\n",
      "    - Added reference to 0600_galaxy_vec_L7.vtu in block 'vec_Level_7' of vector VTM\n",
      "    - Added reference to 0600_galaxy_vec_L8.vtu in block 'vec_Level_8' of vector VTM\n",
      "  Updated vector VTM file with references to vector VTU files at: 0600_galaxy_vector.vtm\n",
      "\n",
      "=== Export Summary ===\n",
      "VTU files (scalars): 3\n",
      "Scalar VTM: 0600_galaxy_scalar.vtm\n",
      "VTU files (vector): 3\n",
      "Vector VTM: 0600_galaxy_vector.vtm\n",
      "Available scalars: rho, AMR_Level\n",
      "Available vector, named: velocity\n"
     ]
    }
   ],
   "source": [
    "# Export full box with lmax = 8 \n",
    "# scalar and vector in separate files\n",
    "# -> interpolating levels 13,12,11,10, 9 down to 8\n",
    "\n",
    "export_vtk(\n",
    "    gas,                       # loaded data\n",
    "    \"output05/0600_galaxy\";    # prefix for outputfiles; creates folder output05 (if not existing) \n",
    "    scalars=[:rho],            # load density data in cm^-3 \n",
    "    scalars_unit=[:nH],\n",
    "    scalars_log10=true,        # apply log10 on the scalars\n",
    "    positions_unit=:kpc,       # cell positions in kpc (useful in Paraview for region selection)\n",
    "    lmax=8 ,\n",
    "\n",
    "    vector=[:vx, :vy, :vz],    # velocity components and its units\n",
    "    vector_unit=:km_s,\n",
    "    vector_name=\"velocity\"     # vector name recognized by Paraview\n",
    ");"
   ]
  },
  {
   "cell_type": "code",
   "execution_count": 37,
   "id": "8f602c9c-2ddd-4f51-a27a-4e2bd146143c",
   "metadata": {},
   "outputs": [
    {
     "data": {
      "text/plain": [
       "8-element Vector{String}:\n",
       " \"0600_galaxy_L6.vtu\"\n",
       " \"0600_galaxy_L7.vtu\"\n",
       " \"0600_galaxy_L8.vtu\"\n",
       " \"0600_galaxy_scalar.vtm\"\n",
       " \"0600_galaxy_vec_L6.vtu\"\n",
       " \"0600_galaxy_vec_L7.vtu\"\n",
       " \"0600_galaxy_vec_L8.vtu\"\n",
       " \"0600_galaxy_vector.vtm\""
      ]
     },
     "execution_count": 37,
     "metadata": {},
     "output_type": "execute_result"
    }
   ],
   "source": [
    "readdir(\"output05\")"
   ]
  },
  {
   "cell_type": "markdown",
   "id": "cdac585a-cc8f-4a34-9885-c18239bcb9de",
   "metadata": {},
   "source": [
    "**Open Scalar vtm File**"
   ]
  },
  {
   "cell_type": "markdown",
   "id": "c7356975-e577-413f-99ae-c8e3a768cf7c",
   "metadata": {},
   "source": [
    "![](images/01_hydro.jpg)"
   ]
  },
  {
   "cell_type": "code",
   "execution_count": null,
   "id": "341a40c2-7e10-4b29-a8cc-22be4b824a4a",
   "metadata": {},
   "outputs": [],
   "source": []
  },
  {
   "cell_type": "markdown",
   "id": "12a92808-4cc7-40a4-85ab-8cce950437c5",
   "metadata": {},
   "source": [
    "**Select rho array, volume rendering and apply**"
   ]
  },
  {
   "cell_type": "markdown",
   "id": "6ecf0687-cc34-41d9-b304-d459d0037b29",
   "metadata": {},
   "source": [
    "![](images/02_hydro.jpg)"
   ]
  },
  {
   "cell_type": "code",
   "execution_count": null,
   "id": "ef4c4f57-ed65-4081-a4d7-9a39451eb352",
   "metadata": {},
   "outputs": [],
   "source": []
  },
  {
   "cell_type": "markdown",
   "id": "d4b4517c-75f2-46ff-b7be-98c5e6c44b6c",
   "metadata": {},
   "source": [
    "**Choose a suitable colormap**"
   ]
  },
  {
   "cell_type": "markdown",
   "id": "4e0fc7a8-7ac3-4ef1-9a8a-b1a1121ea3d7",
   "metadata": {},
   "source": [
    "![](images/03_hydro.jpg)"
   ]
  },
  {
   "cell_type": "code",
   "execution_count": null,
   "id": "3c5110f1-e580-461a-850c-1aea9bf57285",
   "metadata": {},
   "outputs": [],
   "source": []
  },
  {
   "cell_type": "markdown",
   "id": "9ec530d4-298b-4d27-bcee-e2deb25dde27",
   "metadata": {},
   "source": [
    "**Select value range, opazity and visualize data histogram**"
   ]
  },
  {
   "cell_type": "markdown",
   "id": "debe2484-14ac-4827-aa5d-d21eb13d7ea0",
   "metadata": {},
   "source": [
    "![](images/04_hydro.jpg)"
   ]
  },
  {
   "cell_type": "code",
   "execution_count": null,
   "id": "e5e27bb0-6205-4ca0-a09c-f92938921f5c",
   "metadata": {},
   "outputs": [],
   "source": []
  },
  {
   "cell_type": "markdown",
   "id": "c0f70a7e-39d8-4027-88bb-c4d4e7455139",
   "metadata": {},
   "source": [
    "**Change orientation, value range**"
   ]
  },
  {
   "cell_type": "markdown",
   "id": "b254384e-7ad1-4751-8831-2f32f0b8e5fd",
   "metadata": {},
   "source": [
    "![](images/05_hydro.jpg)"
   ]
  },
  {
   "cell_type": "code",
   "execution_count": null,
   "id": "7f67e56a-2adf-40e0-8475-2537183c1bdd",
   "metadata": {},
   "outputs": [],
   "source": [
    "# => save state"
   ]
  },
  {
   "cell_type": "markdown",
   "id": "f60634bd-dd54-4e95-80de-fa0b386a86dd",
   "metadata": {},
   "source": [
    "### Visualize Density & Vector"
   ]
  },
  {
   "cell_type": "code",
   "execution_count": 30,
   "id": "87d00c6a-8e01-4323-96b5-5af638c35979",
   "metadata": {},
   "outputs": [
    {
     "name": "stdout",
     "output_type": "stream",
     "text": [
      "\u001b[0m\u001b[1m[Mera]: 2025-06-28T15:51:50.842\u001b[22m\n",
      "\n",
      "center: [0.4791667, 0.4791667, 0.5] ==> [23.0 [kpc] :: 23.0 [kpc] :: 24.0 [kpc]]\n",
      "\n",
      "domain:\n",
      "xmin::xmax: 0.4583333 :: 0.5  \t==> 22.0 [kpc] :: 24.0 [kpc]\n",
      "ymin::ymax: 0.4583333 :: 0.5  \t==> 22.0 [kpc] :: 24.0 [kpc]\n",
      "zmin::zmax: 0.4791667 :: 0.5208333  \t==> 23.0 [kpc] :: 25.0 [kpc]\n",
      "\n",
      "Radius: 1.0 [kpc]\n",
      "Height: 1.0 [kpc]\n",
      "Memory used for data table :147.8594617843628 MB\n",
      "-------------------------------------------------------\n",
      "\n"
     ]
    }
   ],
   "source": [
    "# extract a small region of the galaxy\n",
    "gassub = subregion(gas, :cylinder, radius=1., height=1., range_unit=:kpc, center=[23.,23.,:bc]);"
   ]
  },
  {
   "cell_type": "code",
   "execution_count": 35,
   "id": "8c9cfa37-7a6a-4352-85fc-79d6ac8de5ea",
   "metadata": {},
   "outputs": [
    {
     "name": "stdout",
     "output_type": "stream",
     "text": [
      "\u001b[0m\u001b[1m[Mera]: 2025-06-28T16:11:51.637\u001b[22m\n",
      "\n",
      "Available Threads: 1\n",
      "Created directory: output06\n",
      "Processing levels: [10, 11, 12, 13]\n",
      "Level 10\n",
      "  wrote 0600_galaxy_L10.vtu (Size: 0.0 GB)\n",
      "  wrote 0600_galaxy_vec_L10.vtu (Size: 0.0 GB)\n",
      "  ✓ Level 10 completed, memory cleaned\n",
      "Level 11\n",
      "  wrote 0600_galaxy_L11.vtu (Size: 0.01 GB)\n",
      "  wrote 0600_galaxy_vec_L11.vtu (Size: 0.02 GB)\n",
      "  ✓ Level 11 completed, memory cleaned\n",
      "Level 12\n",
      "  wrote 0600_galaxy_L12.vtu (Size: 0.02 GB)\n",
      "  wrote 0600_galaxy_vec_L12.vtu (Size: 0.03 GB)\n",
      "  ✓ Level 12 completed, memory cleaned\n",
      "Level 13\n",
      "  wrote 0600_galaxy_L13.vtu (Size: 0.03 GB)\n",
      "  wrote 0600_galaxy_vec_L13.vtu (Size: 0.04 GB)\n",
      "  ✓ Level 13 completed, memory cleaned\n",
      "  Added block 'Level_10' to scalar VTM for 0600_galaxy_L10.vtu\n",
      "  Added block 'Level_11' to scalar VTM for 0600_galaxy_L11.vtu\n",
      "  Added block 'Level_12' to scalar VTM for 0600_galaxy_L12.vtu\n",
      "  Added block 'Level_13' to scalar VTM for 0600_galaxy_L13.vtu\n",
      "Created scalar multiblock: 0600_galaxy_scalar.vtm\n",
      "  Updating scalar VTM file to reference scalar VTU files...\n",
      "    - Added reference to 0600_galaxy_L10.vtu in block 'Level_10' of scalar VTM\n",
      "    - Added reference to 0600_galaxy_L11.vtu in block 'Level_11' of scalar VTM\n",
      "    - Added reference to 0600_galaxy_L12.vtu in block 'Level_12' of scalar VTM\n",
      "    - Added reference to 0600_galaxy_L13.vtu in block 'Level_13' of scalar VTM\n",
      "  Updated scalar VTM file with references to scalar VTU files at: 0600_galaxy_scalar.vtm\n",
      "  Added block 'vec_Level_10' to vector VTM for 0600_galaxy_vec_L10.vtu\n",
      "  Added block 'vec_Level_11' to vector VTM for 0600_galaxy_vec_L11.vtu\n",
      "  Added block 'vec_Level_12' to vector VTM for 0600_galaxy_vec_L12.vtu\n",
      "  Added block 'vec_Level_13' to vector VTM for 0600_galaxy_vec_L13.vtu\n",
      "Created vector multiblock: 0600_galaxy_vector.vtm\n",
      "  Updating vector VTM file to reference vector VTU files...\n",
      "    - Added reference to 0600_galaxy_vec_L10.vtu in block 'vec_Level_10' of vector VTM\n",
      "    - Added reference to 0600_galaxy_vec_L11.vtu in block 'vec_Level_11' of vector VTM\n",
      "    - Added reference to 0600_galaxy_vec_L12.vtu in block 'vec_Level_12' of vector VTM\n",
      "    - Added reference to 0600_galaxy_vec_L13.vtu in block 'vec_Level_13' of vector VTM\n",
      "  Updated vector VTM file with references to vector VTU files at: 0600_galaxy_vector.vtm\n",
      "\n",
      "=== Export Summary ===\n",
      "VTU files (scalars): 4\n",
      "Scalar VTM: 0600_galaxy_scalar.vtm\n",
      "VTU files (vector): 4\n",
      "Vector VTM: 0600_galaxy_vector.vtm\n",
      "Available scalars: rho, AMR_Level\n",
      "Available vector, named: velocity\n"
     ]
    }
   ],
   "source": [
    "# Export small region with all available AMR levels\n",
    "# scalar and vector in separate files\n",
    "\n",
    "export_vtk(\n",
    "    gassub,                    # loaded data\n",
    "    \"output06/0600_galaxy\";    # prefix for outputfiles; creates folder output06 (if not existing) \n",
    "    scalars=[:rho],            # load density data in cm^-3 \n",
    "    scalars_unit=[:nH],\n",
    "    scalars_log10=true,        # apply log10 on the scalars\n",
    "    positions_unit=:kpc,       # cell positions in kpc (useful in Paraview for region selection)\n",
    "\n",
    "    vector=[:vx, :vy, :vz],    # velocity components and its units\n",
    "    vector_unit=:km_s,\n",
    "    vector_name=\"velocity\"     # vector name recognized by Paraview\n",
    ");"
   ]
  },
  {
   "cell_type": "code",
   "execution_count": 38,
   "id": "095b7bde-a987-4b20-b5b4-e3dcc3a49c00",
   "metadata": {},
   "outputs": [
    {
     "data": {
      "text/plain": [
       "10-element Vector{String}:\n",
       " \"0600_galaxy_L10.vtu\"\n",
       " \"0600_galaxy_L11.vtu\"\n",
       " \"0600_galaxy_L12.vtu\"\n",
       " \"0600_galaxy_L13.vtu\"\n",
       " \"0600_galaxy_scalar.vtm\"\n",
       " \"0600_galaxy_vec_L10.vtu\"\n",
       " \"0600_galaxy_vec_L11.vtu\"\n",
       " \"0600_galaxy_vec_L12.vtu\"\n",
       " \"0600_galaxy_vec_L13.vtu\"\n",
       " \"0600_galaxy_vector.vtm\""
      ]
     },
     "execution_count": 38,
     "metadata": {},
     "output_type": "execute_result"
    }
   ],
   "source": [
    "readdir(\"output06\")"
   ]
  },
  {
   "cell_type": "markdown",
   "id": "8f8a254b-a356-41ca-893b-a53d27fe16a0",
   "metadata": {},
   "source": [
    "**Load Scalar**"
   ]
  },
  {
   "cell_type": "markdown",
   "id": "56efdf5e-f7c7-492e-ba95-a0f479907efa",
   "metadata": {},
   "source": [
    "![](images/01_hydro2.jpg)"
   ]
  },
  {
   "cell_type": "code",
   "execution_count": null,
   "id": "1a6178a9-1075-4447-8e26-bfbd52b0e3aa",
   "metadata": {},
   "outputs": [],
   "source": []
  },
  {
   "cell_type": "markdown",
   "id": "0e28bbd0-d9c4-406c-8801-5548132d7bf5",
   "metadata": {},
   "source": [
    "**Select rho data, volume rendering, color map, choose value range**"
   ]
  },
  {
   "cell_type": "markdown",
   "id": "e6048eb2-4e67-43b9-b6f7-e8090aaa3b4f",
   "metadata": {},
   "source": [
    "![](images/02_hydro2.jpg)"
   ]
  },
  {
   "cell_type": "code",
   "execution_count": null,
   "id": "41fc539e-825f-4f5b-9d94-2dcdfc5f3b5d",
   "metadata": {},
   "outputs": [],
   "source": []
  },
  {
   "cell_type": "markdown",
   "id": "a2b087aa-3f8d-4eab-a6b1-51ec55f6614e",
   "metadata": {},
   "source": [
    "**Load Vector data**"
   ]
  },
  {
   "cell_type": "markdown",
   "id": "aac45e16-31f7-4910-9d87-1a40ff984dca",
   "metadata": {},
   "source": [
    "![](images/03_hydro2.jpg)"
   ]
  },
  {
   "cell_type": "code",
   "execution_count": null,
   "id": "ebef4002-4144-49af-b3fe-2631610d3b7a",
   "metadata": {},
   "outputs": [],
   "source": []
  },
  {
   "cell_type": "markdown",
   "id": "96d95402-fc07-4cef-993e-241ac67b743b",
   "metadata": {},
   "source": [
    "**Select velocity data, magnitude volume rendering**"
   ]
  },
  {
   "cell_type": "markdown",
   "id": "b1d7d38b-38c3-45b6-81a0-bf4c36bc51fe",
   "metadata": {},
   "source": [
    "![](images/04_hydro2.jpg)"
   ]
  },
  {
   "cell_type": "code",
   "execution_count": null,
   "id": "6dbd507a-bf34-45a9-92f2-e2046f49bd31",
   "metadata": {},
   "outputs": [],
   "source": []
  },
  {
   "cell_type": "markdown",
   "id": "bcba07c6-8978-4c6f-bb9d-e9ebc8b451fe",
   "metadata": {},
   "source": [
    "**Edge-on view, apply 3D Glyphs on vector data, choose array and number of sample points**"
   ]
  },
  {
   "cell_type": "markdown",
   "id": "70a3e133-e737-4383-a10d-5cc30f718f11",
   "metadata": {},
   "source": [
    "![](images/05_hydro2.jpg)"
   ]
  },
  {
   "cell_type": "code",
   "execution_count": null,
   "id": "ea5296bb-34a1-41b7-8e5c-01169ee77380",
   "metadata": {},
   "outputs": [],
   "source": []
  },
  {
   "cell_type": "markdown",
   "id": "fe6fece5-6708-4f0e-a437-66e8153edfb0",
   "metadata": {},
   "source": [
    "**Apply streamline tracer, point cloud and its size, number of points**"
   ]
  },
  {
   "cell_type": "markdown",
   "id": "fe494d07-f739-4b2e-aedf-b2baf31cb477",
   "metadata": {},
   "source": [
    "![](images/06_hydro2.jpg)"
   ]
  },
  {
   "cell_type": "code",
   "execution_count": null,
   "id": "4d9e80a6-2035-4f1b-bdb7-c1e6b69999f5",
   "metadata": {},
   "outputs": [],
   "source": [
    "# => save state"
   ]
  },
  {
   "cell_type": "code",
   "execution_count": null,
   "id": "1c99d04c-51a8-4f62-95f4-1bdc495eaf54",
   "metadata": {},
   "outputs": [],
   "source": []
  }
 ],
 "metadata": {
  "kernelspec": {
   "display_name": "Julia 1.11.5",
   "language": "julia",
   "name": "julia-1.11"
  },
  "language_info": {
   "file_extension": ".jl",
   "mimetype": "application/julia",
   "name": "julia",
   "version": "1.11.5"
  }
 },
 "nbformat": 4,
 "nbformat_minor": 5
}
